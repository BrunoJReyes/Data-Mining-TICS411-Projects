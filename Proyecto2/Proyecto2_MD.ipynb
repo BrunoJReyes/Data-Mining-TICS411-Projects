{
  "cells": [
    {
      "cell_type": "markdown",
      "id": "5QP-XOMzP73f",
      "metadata": {
        "id": "5QP-XOMzP73f"
      },
      "source": [
        "**Proyecto 2 Mineria de datos**\n",
        "\n",
        "- Integrantes: \n",
        "\n",
        "             - Hans Barnert\n",
        "             - Agustín Soto\n",
        "             - Sebastián Velazquez\n",
        "             - Bruno Reyes\n",
        "\n",
        "- Profesor:  \n",
        "             - Sebastián Moreno"
      ]
    },
    {
      "cell_type": "markdown",
      "id": "zleur65yQsal",
      "metadata": {
        "id": "zleur65yQsal"
      },
      "source": [
        "**Introducción**\n",
        "El presente trabajo tiene como finalidad entrenar distintos modelos de predicción para así enfrentarse al problema que tiene la aerolínea PANAM cual es tratar de predecir dadas ciertas condiciones de un vuelo, si era factible realizar una sobreventa de asientos o no. Para ello se estudiaron los modelos KNN, regresión logística, Naive Bayes y árboles de decisión. Para llevar el trabajo a cabo se realizó una limpieza de los datos, posteriormente se realizó la selección de variables en el caso de los modelos paramétricos, a continuación se realizaron los entrenamientos de los modelos para distintos valores de los hiperparámetros para escoger el mejor valor de este, finalmente se evaluaron los desempeños de cada modelo, para finalmente escoger el que tuviera un mejor rendimiento y utilizarlo para predecir el set de datos de evaluación."
      ]
    },
    {
      "cell_type": "markdown",
      "id": "tuqdbz_UQyGF",
      "metadata": {
        "id": "tuqdbz_UQyGF"
      },
      "source": [
        "**CONTENIDO**\n",
        "\n",
        "1.- Limpieza de datos\n",
        "\n",
        "2.- Entrenando modelos de clasificación\n",
        "\n",
        "3.- Selección del modelo final\n",
        "\n",
        "4.- Evaluación de la segunda base de datos basado en la variable binaria no-show"
      ]
    },
    {
      "cell_type": "markdown",
      "id": "4XdmHQkYSOas",
      "metadata": {
        "id": "4XdmHQkYSOas"
      },
      "source": [
        "Importación de datos"
      ]
    },
    {
      "cell_type": "code",
      "execution_count": 85,
      "id": "7f7ba607",
      "metadata": {
        "id": "7f7ba607"
      },
      "outputs": [],
      "source": [
        "import pandas as pd\n",
        "import numpy as np"
      ]
    },
    {
      "cell_type": "code",
      "execution_count": 105,
      "id": "3f6c5fee",
      "metadata": {
        "id": "3f6c5fee"
      },
      "outputs": [],
      "source": [
        "df_evalData = pd.read_csv('ALUMNOS-evalData.csv')\n",
        "df_trainData = pd.read_csv('ALUMNOS-trainData.csv')"
      ]
    },
    {
      "cell_type": "code",
      "execution_count": 87,
      "id": "21abfa05",
      "metadata": {
        "colab": {
          "base_uri": "https://localhost:8080/"
        },
        "id": "21abfa05",
        "outputId": "1ac0091b-e02c-426a-90c8-9e00d0cb715a"
      },
      "outputs": [
        {
          "name": "stdout",
          "output_type": "stream",
          "text": [
            "<class 'pandas.core.frame.DataFrame'>\n",
            "RangeIndex: 248880 entries, 0 to 248879\n",
            "Data columns (total 21 columns):\n",
            " #   Column           Non-Null Count   Dtype  \n",
            "---  ------           --------------   -----  \n",
            " 0   Unnamed: 0       248880 non-null  int64  \n",
            " 1   date             248880 non-null  object \n",
            " 2   fligth_number    248880 non-null  int64  \n",
            " 3   origin           248880 non-null  object \n",
            " 4   destination      248880 non-null  object \n",
            " 5   distance         248880 non-null  int64  \n",
            " 6   denied_boarding  248880 non-null  int64  \n",
            " 7   pax_midlow       248880 non-null  int64  \n",
            " 8   pax_high         248880 non-null  int64  \n",
            " 9   pax_midhigh      248880 non-null  int64  \n",
            " 10  pax_low          248880 non-null  int64  \n",
            " 11  pax_freqflyer    248880 non-null  int64  \n",
            " 12  group_bookings   248880 non-null  int64  \n",
            " 13  out_of_stock     248880 non-null  int64  \n",
            " 14  dom_cnx          248880 non-null  int64  \n",
            " 15  int_cnx          248880 non-null  int64  \n",
            " 16  p2p              248880 non-null  int64  \n",
            " 17  departure_time   248535 non-null  object \n",
            " 18  capacity         248880 non-null  float64\n",
            " 19  revenues_usd     248880 non-null  float64\n",
            " 20  bookings         248880 non-null  int64  \n",
            "dtypes: float64(2), int64(15), object(4)\n",
            "memory usage: 39.9+ MB\n",
            "\n",
            "============================================================================\n",
            "\n",
            "<class 'pandas.core.frame.DataFrame'>\n",
            "RangeIndex: 999890 entries, 0 to 999889\n",
            "Data columns (total 22 columns):\n",
            " #   Column           Non-Null Count   Dtype  \n",
            "---  ------           --------------   -----  \n",
            " 0   Unnamed: 0       999890 non-null  int64  \n",
            " 1   date             999890 non-null  object \n",
            " 2   fligth_number    999890 non-null  int64  \n",
            " 3   origin           999890 non-null  object \n",
            " 4   destination      999890 non-null  object \n",
            " 5   distance         999890 non-null  int64  \n",
            " 6   noshow           999890 non-null  float64\n",
            " 7   denied_boarding  999890 non-null  int64  \n",
            " 8   pax_midlow       999890 non-null  int64  \n",
            " 9   pax_high         999890 non-null  int64  \n",
            " 10  pax_midhigh      999890 non-null  int64  \n",
            " 11  pax_low          999890 non-null  int64  \n",
            " 12  pax_freqflyer    999890 non-null  int64  \n",
            " 13  group_bookings   999890 non-null  int64  \n",
            " 14  out_of_stock     999890 non-null  int64  \n",
            " 15  dom_cnx          999890 non-null  int64  \n",
            " 16  int_cnx          999890 non-null  int64  \n",
            " 17  p2p              999890 non-null  int64  \n",
            " 18  departure_time   998472 non-null  object \n",
            " 19  capacity         999890 non-null  float64\n",
            " 20  revenues_usd     999890 non-null  float64\n",
            " 21  bookings         999890 non-null  int64  \n",
            "dtypes: float64(3), int64(15), object(4)\n",
            "memory usage: 167.8+ MB\n"
          ]
        }
      ],
      "source": [
        "df_evalData.info()\n",
        "print(\"\")\n",
        "print(\"============================================================================\")\n",
        "print(\"\")\n",
        "df_trainData.info()"
      ]
    },
    {
      "cell_type": "code",
      "execution_count": 23,
      "id": "8c8024ce",
      "metadata": {
        "colab": {
          "base_uri": "https://localhost:8080/",
          "height": 364
        },
        "id": "8c8024ce",
        "outputId": "610d5810-bb1b-4232-ffb5-6b87a4feb907"
      },
      "outputs": [
        {
          "data": {
            "text/html": [
              "<div>\n",
              "<style scoped>\n",
              "    .dataframe tbody tr th:only-of-type {\n",
              "        vertical-align: middle;\n",
              "    }\n",
              "\n",
              "    .dataframe tbody tr th {\n",
              "        vertical-align: top;\n",
              "    }\n",
              "\n",
              "    .dataframe thead th {\n",
              "        text-align: right;\n",
              "    }\n",
              "</style>\n",
              "<table border=\"1\" class=\"dataframe\">\n",
              "  <thead>\n",
              "    <tr style=\"text-align: right;\">\n",
              "      <th></th>\n",
              "      <th>Unnamed: 0</th>\n",
              "      <th>fligth_number</th>\n",
              "      <th>distance</th>\n",
              "      <th>denied_boarding</th>\n",
              "      <th>pax_midlow</th>\n",
              "      <th>pax_high</th>\n",
              "      <th>pax_midhigh</th>\n",
              "      <th>pax_low</th>\n",
              "      <th>pax_freqflyer</th>\n",
              "      <th>group_bookings</th>\n",
              "      <th>out_of_stock</th>\n",
              "      <th>dom_cnx</th>\n",
              "      <th>int_cnx</th>\n",
              "      <th>p2p</th>\n",
              "      <th>capacity</th>\n",
              "      <th>revenues_usd</th>\n",
              "      <th>bookings</th>\n",
              "    </tr>\n",
              "  </thead>\n",
              "  <tbody>\n",
              "    <tr>\n",
              "      <th>count</th>\n",
              "      <td>2.488800e+05</td>\n",
              "      <td>248880.000000</td>\n",
              "      <td>248880.000000</td>\n",
              "      <td>248880.000000</td>\n",
              "      <td>248880.000000</td>\n",
              "      <td>248880.000000</td>\n",
              "      <td>248880.000000</td>\n",
              "      <td>248880.000000</td>\n",
              "      <td>248880.000000</td>\n",
              "      <td>248880.000000</td>\n",
              "      <td>248880.000000</td>\n",
              "      <td>248880.000000</td>\n",
              "      <td>248880.000000</td>\n",
              "      <td>248880.000000</td>\n",
              "      <td>248880.000000</td>\n",
              "      <td>248880.000000</td>\n",
              "      <td>248880.000000</td>\n",
              "    </tr>\n",
              "    <tr>\n",
              "      <th>mean</th>\n",
              "      <td>6.449045e+05</td>\n",
              "      <td>6109.286021</td>\n",
              "      <td>1461.298887</td>\n",
              "      <td>0.048461</td>\n",
              "      <td>75.521251</td>\n",
              "      <td>3.820974</td>\n",
              "      <td>6.324321</td>\n",
              "      <td>57.140184</td>\n",
              "      <td>16.789176</td>\n",
              "      <td>3.874928</td>\n",
              "      <td>0.094973</td>\n",
              "      <td>25.974928</td>\n",
              "      <td>26.805621</td>\n",
              "      <td>106.815357</td>\n",
              "      <td>178.145130</td>\n",
              "      <td>14889.329173</td>\n",
              "      <td>159.595906</td>\n",
              "    </tr>\n",
              "    <tr>\n",
              "      <th>std</th>\n",
              "      <td>3.877374e+05</td>\n",
              "      <td>2049.174719</td>\n",
              "      <td>1687.612009</td>\n",
              "      <td>0.555339</td>\n",
              "      <td>44.654099</td>\n",
              "      <td>7.233293</td>\n",
              "      <td>10.254639</td>\n",
              "      <td>38.423572</td>\n",
              "      <td>13.849779</td>\n",
              "      <td>12.382630</td>\n",
              "      <td>0.293179</td>\n",
              "      <td>32.417089</td>\n",
              "      <td>44.152368</td>\n",
              "      <td>65.497689</td>\n",
              "      <td>32.884798</td>\n",
              "      <td>18144.708900</td>\n",
              "      <td>68.694405</td>\n",
              "    </tr>\n",
              "    <tr>\n",
              "      <th>min</th>\n",
              "      <td>7.000000e+00</td>\n",
              "      <td>12.000000</td>\n",
              "      <td>14.000000</td>\n",
              "      <td>0.000000</td>\n",
              "      <td>0.000000</td>\n",
              "      <td>0.000000</td>\n",
              "      <td>0.000000</td>\n",
              "      <td>0.000000</td>\n",
              "      <td>0.000000</td>\n",
              "      <td>0.000000</td>\n",
              "      <td>0.000000</td>\n",
              "      <td>0.000000</td>\n",
              "      <td>0.000000</td>\n",
              "      <td>0.000000</td>\n",
              "      <td>56.000000</td>\n",
              "      <td>-6721.300000</td>\n",
              "      <td>1.000000</td>\n",
              "    </tr>\n",
              "    <tr>\n",
              "      <th>25%</th>\n",
              "      <td>3.142545e+05</td>\n",
              "      <td>5376.000000</td>\n",
              "      <td>538.000000</td>\n",
              "      <td>0.000000</td>\n",
              "      <td>46.000000</td>\n",
              "      <td>0.000000</td>\n",
              "      <td>0.000000</td>\n",
              "      <td>28.000000</td>\n",
              "      <td>7.000000</td>\n",
              "      <td>0.000000</td>\n",
              "      <td>0.000000</td>\n",
              "      <td>0.000000</td>\n",
              "      <td>0.000000</td>\n",
              "      <td>59.000000</td>\n",
              "      <td>150.000000</td>\n",
              "      <td>6295.600000</td>\n",
              "      <td>110.000000</td>\n",
              "    </tr>\n",
              "    <tr>\n",
              "      <th>50%</th>\n",
              "      <td>6.254505e+05</td>\n",
              "      <td>6036.000000</td>\n",
              "      <td>916.000000</td>\n",
              "      <td>0.000000</td>\n",
              "      <td>77.000000</td>\n",
              "      <td>1.000000</td>\n",
              "      <td>3.000000</td>\n",
              "      <td>55.000000</td>\n",
              "      <td>14.000000</td>\n",
              "      <td>0.000000</td>\n",
              "      <td>0.000000</td>\n",
              "      <td>12.000000</td>\n",
              "      <td>5.000000</td>\n",
              "      <td>99.000000</td>\n",
              "      <td>174.000000</td>\n",
              "      <td>9707.100000</td>\n",
              "      <td>151.000000</td>\n",
              "    </tr>\n",
              "    <tr>\n",
              "      <th>75%</th>\n",
              "      <td>9.478320e+05</td>\n",
              "      <td>7190.000000</td>\n",
              "      <td>1672.000000</td>\n",
              "      <td>0.000000</td>\n",
              "      <td>104.000000</td>\n",
              "      <td>4.000000</td>\n",
              "      <td>8.000000</td>\n",
              "      <td>82.000000</td>\n",
              "      <td>23.000000</td>\n",
              "      <td>0.000000</td>\n",
              "      <td>0.000000</td>\n",
              "      <td>42.000000</td>\n",
              "      <td>31.000000</td>\n",
              "      <td>147.000000</td>\n",
              "      <td>174.000000</td>\n",
              "      <td>15730.150000</td>\n",
              "      <td>200.000000</td>\n",
              "    </tr>\n",
              "    <tr>\n",
              "      <th>max</th>\n",
              "      <td>1.350378e+06</td>\n",
              "      <td>9264.000000</td>\n",
              "      <td>11380.000000</td>\n",
              "      <td>26.000000</td>\n",
              "      <td>415.000000</td>\n",
              "      <td>157.000000</td>\n",
              "      <td>220.000000</td>\n",
              "      <td>268.000000</td>\n",
              "      <td>234.000000</td>\n",
              "      <td>244.000000</td>\n",
              "      <td>1.000000</td>\n",
              "      <td>256.000000</td>\n",
              "      <td>339.000000</td>\n",
              "      <td>505.000000</td>\n",
              "      <td>400.000000</td>\n",
              "      <td>295708.200000</td>\n",
              "      <td>584.000000</td>\n",
              "    </tr>\n",
              "  </tbody>\n",
              "</table>\n",
              "</div>"
            ],
            "text/plain": [
              "         Unnamed: 0  fligth_number       distance  denied_boarding  \\\n",
              "count  2.488800e+05  248880.000000  248880.000000    248880.000000   \n",
              "mean   6.449045e+05    6109.286021    1461.298887         0.048461   \n",
              "std    3.877374e+05    2049.174719    1687.612009         0.555339   \n",
              "min    7.000000e+00      12.000000      14.000000         0.000000   \n",
              "25%    3.142545e+05    5376.000000     538.000000         0.000000   \n",
              "50%    6.254505e+05    6036.000000     916.000000         0.000000   \n",
              "75%    9.478320e+05    7190.000000    1672.000000         0.000000   \n",
              "max    1.350378e+06    9264.000000   11380.000000        26.000000   \n",
              "\n",
              "          pax_midlow       pax_high    pax_midhigh        pax_low  \\\n",
              "count  248880.000000  248880.000000  248880.000000  248880.000000   \n",
              "mean       75.521251       3.820974       6.324321      57.140184   \n",
              "std        44.654099       7.233293      10.254639      38.423572   \n",
              "min         0.000000       0.000000       0.000000       0.000000   \n",
              "25%        46.000000       0.000000       0.000000      28.000000   \n",
              "50%        77.000000       1.000000       3.000000      55.000000   \n",
              "75%       104.000000       4.000000       8.000000      82.000000   \n",
              "max       415.000000     157.000000     220.000000     268.000000   \n",
              "\n",
              "       pax_freqflyer  group_bookings   out_of_stock        dom_cnx  \\\n",
              "count  248880.000000   248880.000000  248880.000000  248880.000000   \n",
              "mean       16.789176        3.874928       0.094973      25.974928   \n",
              "std        13.849779       12.382630       0.293179      32.417089   \n",
              "min         0.000000        0.000000       0.000000       0.000000   \n",
              "25%         7.000000        0.000000       0.000000       0.000000   \n",
              "50%        14.000000        0.000000       0.000000      12.000000   \n",
              "75%        23.000000        0.000000       0.000000      42.000000   \n",
              "max       234.000000      244.000000       1.000000     256.000000   \n",
              "\n",
              "             int_cnx            p2p       capacity   revenues_usd  \\\n",
              "count  248880.000000  248880.000000  248880.000000  248880.000000   \n",
              "mean       26.805621     106.815357     178.145130   14889.329173   \n",
              "std        44.152368      65.497689      32.884798   18144.708900   \n",
              "min         0.000000       0.000000      56.000000   -6721.300000   \n",
              "25%         0.000000      59.000000     150.000000    6295.600000   \n",
              "50%         5.000000      99.000000     174.000000    9707.100000   \n",
              "75%        31.000000     147.000000     174.000000   15730.150000   \n",
              "max       339.000000     505.000000     400.000000  295708.200000   \n",
              "\n",
              "            bookings  \n",
              "count  248880.000000  \n",
              "mean      159.595906  \n",
              "std        68.694405  \n",
              "min         1.000000  \n",
              "25%       110.000000  \n",
              "50%       151.000000  \n",
              "75%       200.000000  \n",
              "max       584.000000  "
            ]
          },
          "execution_count": 23,
          "metadata": {},
          "output_type": "execute_result"
        }
      ],
      "source": [
        "df_evalData.describe()"
      ]
    },
    {
      "cell_type": "code",
      "execution_count": null,
      "id": "19e7d95b",
      "metadata": {
        "colab": {
          "base_uri": "https://localhost:8080/",
          "height": 364
        },
        "id": "19e7d95b",
        "outputId": "0d881836-2fbf-45da-d811-58974b1ac007"
      },
      "outputs": [],
      "source": [
        "df_trainData.describe()"
      ]
    },
    {
      "cell_type": "markdown",
      "id": "NIhjaaO2PFuo",
      "metadata": {
        "id": "NIhjaaO2PFuo"
      },
      "source": [
        "Contenido de las variables"
      ]
    },
    {
      "cell_type": "code",
      "execution_count": null,
      "id": "7aea0c3b",
      "metadata": {
        "id": "7aea0c3b"
      },
      "outputs": [],
      "source": [
        "#df_evalData"
      ]
    },
    {
      "cell_type": "code",
      "execution_count": null,
      "id": "4b85c507",
      "metadata": {
        "id": "4b85c507"
      },
      "outputs": [],
      "source": [
        "#df_trainData"
      ]
    },
    {
      "cell_type": "markdown",
      "id": "d50863a8",
      "metadata": {
        "id": "d50863a8"
      },
      "source": [
        "#1.- Limpieza de datos"
      ]
    },
    {
      "cell_type": "markdown",
      "id": "ppFnSRKmRqJa",
      "metadata": {
        "id": "ppFnSRKmRqJa"
      },
      "source": [
        "Primero que todo, vamos a analizar como están nuestros datos, si acaso existen datos nulos y/o duplicados, en caso de que existan vamos a proceder a eliminarlos, ya que estos pueden generar conflictos en nuestros resultados finales ya sea con errores o con bifurcación de la interpretación real de la situación dada."
      ]
    },
    {
      "cell_type": "markdown",
      "id": "ZlG5bfmTPais",
      "metadata": {
        "id": "ZlG5bfmTPais"
      },
      "source": [
        "Para evalData"
      ]
    },
    {
      "cell_type": "code",
      "execution_count": 88,
      "id": "d83dd841",
      "metadata": {
        "colab": {
          "base_uri": "https://localhost:8080/"
        },
        "id": "d83dd841",
        "outputId": "de82fe24-0da9-4897-b93a-246fa06707c1"
      },
      "outputs": [
        {
          "name": "stdout",
          "output_type": "stream",
          "text": [
            "Unnamed: 0         0\n",
            "date               0\n",
            "fligth_number      0\n",
            "origin             0\n",
            "destination        0\n",
            "distance           0\n",
            "denied_boarding    0\n",
            "pax_midlow         0\n",
            "pax_high           0\n",
            "pax_midhigh        0\n",
            "pax_low            0\n",
            "pax_freqflyer      0\n",
            "group_bookings     0\n",
            "out_of_stock       0\n",
            "dom_cnx            0\n",
            "int_cnx            0\n",
            "p2p                0\n",
            "departure_time     0\n",
            "capacity           0\n",
            "revenues_usd       0\n",
            "bookings           0\n",
            "dtype: int64\n"
          ]
        }
      ],
      "source": [
        "print(df_evalData.loc[df_evalData.duplicated()].count()) # .duplicated() verifica la existencia de algún dato duplicado."
      ]
    },
    {
      "cell_type": "code",
      "execution_count": 89,
      "id": "85ea8910",
      "metadata": {
        "colab": {
          "base_uri": "https://localhost:8080/"
        },
        "id": "85ea8910",
        "outputId": "b6eb9222-9f1d-4e64-86aa-a52be563acca"
      },
      "outputs": [
        {
          "name": "stdout",
          "output_type": "stream",
          "text": [
            "Unnamed: 0           0\n",
            "date                 0\n",
            "fligth_number        0\n",
            "origin               0\n",
            "destination          0\n",
            "distance             0\n",
            "denied_boarding      0\n",
            "pax_midlow           0\n",
            "pax_high             0\n",
            "pax_midhigh          0\n",
            "pax_low              0\n",
            "pax_freqflyer        0\n",
            "group_bookings       0\n",
            "out_of_stock         0\n",
            "dom_cnx              0\n",
            "int_cnx              0\n",
            "p2p                  0\n",
            "departure_time     345\n",
            "capacity             0\n",
            "revenues_usd         0\n",
            "bookings             0\n",
            "dtype: int64\n"
          ]
        }
      ],
      "source": [
        "print(df_evalData.isnull().sum()) # .isnull() verifica la existencia de algún dato nulo."
      ]
    },
    {
      "cell_type": "code",
      "execution_count": 108,
      "id": "6d540749",
      "metadata": {
        "colab": {
          "base_uri": "https://localhost:8080/"
        },
        "id": "6d540749",
        "outputId": "1440fba8-f6a0-4520-9c76-5ab3f047e480"
      },
      "outputs": [
        {
          "name": "stdout",
          "output_type": "stream",
          "text": [
            "Unnamed: 0         0\n",
            "date               0\n",
            "fligth_number      0\n",
            "origin             0\n",
            "destination        0\n",
            "distance           0\n",
            "denied_boarding    0\n",
            "pax_midlow         0\n",
            "pax_high           0\n",
            "pax_midhigh        0\n",
            "pax_low            0\n",
            "pax_freqflyer      0\n",
            "group_bookings     0\n",
            "out_of_stock       0\n",
            "dom_cnx            0\n",
            "int_cnx            0\n",
            "p2p                0\n",
            "departure_time     0\n",
            "capacity           0\n",
            "revenues_usd       0\n",
            "bookings           0\n",
            "dtype: int64\n"
          ]
        }
      ],
      "source": [
        "df_evalData = df_evalData.dropna()\n",
        "print(df_evalData.isnull().sum())"
      ]
    },
    {
      "cell_type": "markdown",
      "id": "TgRuJ4U-PeY2",
      "metadata": {
        "id": "TgRuJ4U-PeY2"
      },
      "source": [
        "Para trainData"
      ]
    },
    {
      "cell_type": "code",
      "execution_count": null,
      "id": "e194dce8",
      "metadata": {
        "colab": {
          "base_uri": "https://localhost:8080/"
        },
        "id": "e194dce8",
        "outputId": "eeab6004-19fb-4b8d-c5b1-d75dac051dc8"
      },
      "outputs": [],
      "source": [
        "print(df_trainData.loc[df_trainData.duplicated()].count()) # .duplicated() verifica la existencia de algún dato duplicado."
      ]
    },
    {
      "cell_type": "code",
      "execution_count": null,
      "id": "6436efb0",
      "metadata": {
        "colab": {
          "base_uri": "https://localhost:8080/"
        },
        "id": "6436efb0",
        "outputId": "00f6db16-b868-4f4e-dd42-e84826bd80fa"
      },
      "outputs": [],
      "source": [
        "print(df_trainData.isnull().sum()) # .isnull() verifica la existencia de algún dato nulo."
      ]
    },
    {
      "cell_type": "code",
      "execution_count": 109,
      "id": "00bd8be7",
      "metadata": {
        "colab": {
          "base_uri": "https://localhost:8080/"
        },
        "id": "00bd8be7",
        "outputId": "f6af2419-6be5-4596-b3c6-d12e06322bb4"
      },
      "outputs": [
        {
          "name": "stdout",
          "output_type": "stream",
          "text": [
            "Unnamed: 0         0\n",
            "fligth_number      0\n",
            "distance           0\n",
            "noshow             0\n",
            "denied_boarding    0\n",
            "pax_midlow         0\n",
            "pax_high           0\n",
            "pax_midhigh        0\n",
            "pax_low            0\n",
            "pax_freqflyer      0\n",
            "group_bookings     0\n",
            "out_of_stock       0\n",
            "dom_cnx            0\n",
            "int_cnx            0\n",
            "p2p                0\n",
            "capacity           0\n",
            "revenues_usd       0\n",
            "bookings           0\n",
            "dtype: int64\n"
          ]
        }
      ],
      "source": [
        "df_trainData = df_trainData.dropna()\n",
        "print(df_trainData.isnull().sum())"
      ]
    },
    {
      "cell_type": "markdown",
      "id": "f6dbfaf0",
      "metadata": {
        "id": "f6dbfaf0"
      },
      "source": [
        "Con los procedimientos anteriores vimos que no existen datos duplicados en nuestros datasets, asimismo buscamos la existencia de datos nulos logrando encontrar unos cuantos, lo que se procedio a eliminarlos, con esto quedan los datos listos para trabajar."
      ]
    },
    {
      "cell_type": "markdown",
      "id": "DdLLi3LxOEm-",
      "metadata": {
        "id": "DdLLi3LxOEm-"
      },
      "source": [
        "#2.-  Modelo de clasificación, uno por cada integrante"
      ]
    },
    {
      "cell_type": "markdown",
      "id": "IcjzJCWmVEbD",
      "metadata": {
        "id": "IcjzJCWmVEbD"
      },
      "source": [
        "-Hans Barnert"
      ]
    },
    {
      "cell_type": "code",
      "execution_count": null,
      "id": "190f304c",
      "metadata": {
        "id": "190f304c"
      },
      "outputs": [],
      "source": [
        "df_trainData.loc[df_trainData['noshow'] <= 4, 'noshow'] = 0\n",
        "df_trainData.loc[df_trainData['noshow'] > 4, 'noshow'] = 1\n",
        "display(df_trainData['noshow'].sample(15))"
      ]
    },
    {
      "cell_type": "markdown",
      "id": "2930154c",
      "metadata": {},
      "source": [
        "Se eliminaron las variables categóricas dado que a aplicar OneHotEncoding generaba demasiadas dimensiones y esto generaba problemas al momento de entrenar el modelo."
      ]
    },
    {
      "cell_type": "code",
      "execution_count": 107,
      "id": "64c9ba83",
      "metadata": {},
      "outputs": [
        {
          "data": {
            "text/html": [
              "<div>\n",
              "<style scoped>\n",
              "    .dataframe tbody tr th:only-of-type {\n",
              "        vertical-align: middle;\n",
              "    }\n",
              "\n",
              "    .dataframe tbody tr th {\n",
              "        vertical-align: top;\n",
              "    }\n",
              "\n",
              "    .dataframe thead th {\n",
              "        text-align: right;\n",
              "    }\n",
              "</style>\n",
              "<table border=\"1\" class=\"dataframe\">\n",
              "  <thead>\n",
              "    <tr style=\"text-align: right;\">\n",
              "      <th></th>\n",
              "      <th>Unnamed: 0</th>\n",
              "      <th>fligth_number</th>\n",
              "      <th>distance</th>\n",
              "      <th>noshow</th>\n",
              "      <th>denied_boarding</th>\n",
              "      <th>pax_midlow</th>\n",
              "      <th>pax_high</th>\n",
              "      <th>pax_midhigh</th>\n",
              "      <th>pax_low</th>\n",
              "      <th>pax_freqflyer</th>\n",
              "      <th>group_bookings</th>\n",
              "      <th>out_of_stock</th>\n",
              "      <th>dom_cnx</th>\n",
              "      <th>int_cnx</th>\n",
              "      <th>p2p</th>\n",
              "      <th>capacity</th>\n",
              "      <th>revenues_usd</th>\n",
              "      <th>bookings</th>\n",
              "    </tr>\n",
              "  </thead>\n",
              "  <tbody>\n",
              "    <tr>\n",
              "      <th>0</th>\n",
              "      <td>389083</td>\n",
              "      <td>8995</td>\n",
              "      <td>1394</td>\n",
              "      <td>9.0</td>\n",
              "      <td>0</td>\n",
              "      <td>94</td>\n",
              "      <td>2</td>\n",
              "      <td>28</td>\n",
              "      <td>94</td>\n",
              "      <td>22</td>\n",
              "      <td>19</td>\n",
              "      <td>0</td>\n",
              "      <td>1</td>\n",
              "      <td>0</td>\n",
              "      <td>239</td>\n",
              "      <td>174.0</td>\n",
              "      <td>10631.1</td>\n",
              "      <td>240</td>\n",
              "    </tr>\n",
              "    <tr>\n",
              "      <th>1</th>\n",
              "      <td>177073</td>\n",
              "      <td>7061</td>\n",
              "      <td>489</td>\n",
              "      <td>0.0</td>\n",
              "      <td>0</td>\n",
              "      <td>100</td>\n",
              "      <td>4</td>\n",
              "      <td>4</td>\n",
              "      <td>87</td>\n",
              "      <td>25</td>\n",
              "      <td>0</td>\n",
              "      <td>0</td>\n",
              "      <td>19</td>\n",
              "      <td>9</td>\n",
              "      <td>192</td>\n",
              "      <td>174.0</td>\n",
              "      <td>5453.7</td>\n",
              "      <td>220</td>\n",
              "    </tr>\n",
              "    <tr>\n",
              "      <th>2</th>\n",
              "      <td>1040357</td>\n",
              "      <td>8972</td>\n",
              "      <td>2180</td>\n",
              "      <td>4.0</td>\n",
              "      <td>0</td>\n",
              "      <td>7</td>\n",
              "      <td>1</td>\n",
              "      <td>5</td>\n",
              "      <td>64</td>\n",
              "      <td>2</td>\n",
              "      <td>0</td>\n",
              "      <td>0</td>\n",
              "      <td>0</td>\n",
              "      <td>10</td>\n",
              "      <td>69</td>\n",
              "      <td>218.0</td>\n",
              "      <td>16161.0</td>\n",
              "      <td>79</td>\n",
              "    </tr>\n",
              "    <tr>\n",
              "      <th>3</th>\n",
              "      <td>505258</td>\n",
              "      <td>6039</td>\n",
              "      <td>524</td>\n",
              "      <td>13.0</td>\n",
              "      <td>0</td>\n",
              "      <td>54</td>\n",
              "      <td>4</td>\n",
              "      <td>7</td>\n",
              "      <td>21</td>\n",
              "      <td>4</td>\n",
              "      <td>0</td>\n",
              "      <td>0</td>\n",
              "      <td>26</td>\n",
              "      <td>0</td>\n",
              "      <td>64</td>\n",
              "      <td>174.0</td>\n",
              "      <td>10828.7</td>\n",
              "      <td>90</td>\n",
              "    </tr>\n",
              "    <tr>\n",
              "      <th>4</th>\n",
              "      <td>369663</td>\n",
              "      <td>7713</td>\n",
              "      <td>1170</td>\n",
              "      <td>14.0</td>\n",
              "      <td>0</td>\n",
              "      <td>21</td>\n",
              "      <td>88</td>\n",
              "      <td>18</td>\n",
              "      <td>82</td>\n",
              "      <td>0</td>\n",
              "      <td>88</td>\n",
              "      <td>1</td>\n",
              "      <td>23</td>\n",
              "      <td>3</td>\n",
              "      <td>183</td>\n",
              "      <td>144.0</td>\n",
              "      <td>16721.6</td>\n",
              "      <td>209</td>\n",
              "    </tr>\n",
              "    <tr>\n",
              "      <th>...</th>\n",
              "      <td>...</td>\n",
              "      <td>...</td>\n",
              "      <td>...</td>\n",
              "      <td>...</td>\n",
              "      <td>...</td>\n",
              "      <td>...</td>\n",
              "      <td>...</td>\n",
              "      <td>...</td>\n",
              "      <td>...</td>\n",
              "      <td>...</td>\n",
              "      <td>...</td>\n",
              "      <td>...</td>\n",
              "      <td>...</td>\n",
              "      <td>...</td>\n",
              "      <td>...</td>\n",
              "      <td>...</td>\n",
              "      <td>...</td>\n",
              "      <td>...</td>\n",
              "    </tr>\n",
              "    <tr>\n",
              "      <th>999885</th>\n",
              "      <td>359783</td>\n",
              "      <td>6024</td>\n",
              "      <td>552</td>\n",
              "      <td>5.0</td>\n",
              "      <td>0</td>\n",
              "      <td>25</td>\n",
              "      <td>12</td>\n",
              "      <td>20</td>\n",
              "      <td>4</td>\n",
              "      <td>12</td>\n",
              "      <td>0</td>\n",
              "      <td>0</td>\n",
              "      <td>64</td>\n",
              "      <td>9</td>\n",
              "      <td>0</td>\n",
              "      <td>144.0</td>\n",
              "      <td>14102.1</td>\n",
              "      <td>73</td>\n",
              "    </tr>\n",
              "    <tr>\n",
              "      <th>999886</th>\n",
              "      <td>152315</td>\n",
              "      <td>6669</td>\n",
              "      <td>3934</td>\n",
              "      <td>4.0</td>\n",
              "      <td>0</td>\n",
              "      <td>129</td>\n",
              "      <td>3</td>\n",
              "      <td>19</td>\n",
              "      <td>121</td>\n",
              "      <td>2</td>\n",
              "      <td>20</td>\n",
              "      <td>0</td>\n",
              "      <td>0</td>\n",
              "      <td>118</td>\n",
              "      <td>156</td>\n",
              "      <td>168.0</td>\n",
              "      <td>32907.8</td>\n",
              "      <td>274</td>\n",
              "    </tr>\n",
              "    <tr>\n",
              "      <th>999887</th>\n",
              "      <td>1000747</td>\n",
              "      <td>9094</td>\n",
              "      <td>1430</td>\n",
              "      <td>5.0</td>\n",
              "      <td>0</td>\n",
              "      <td>2</td>\n",
              "      <td>1</td>\n",
              "      <td>0</td>\n",
              "      <td>108</td>\n",
              "      <td>20</td>\n",
              "      <td>36</td>\n",
              "      <td>0</td>\n",
              "      <td>7</td>\n",
              "      <td>0</td>\n",
              "      <td>124</td>\n",
              "      <td>218.0</td>\n",
              "      <td>13519.3</td>\n",
              "      <td>131</td>\n",
              "    </tr>\n",
              "    <tr>\n",
              "      <th>999888</th>\n",
              "      <td>117952</td>\n",
              "      <td>7704</td>\n",
              "      <td>1091</td>\n",
              "      <td>2.0</td>\n",
              "      <td>0</td>\n",
              "      <td>67</td>\n",
              "      <td>2</td>\n",
              "      <td>7</td>\n",
              "      <td>42</td>\n",
              "      <td>16</td>\n",
              "      <td>0</td>\n",
              "      <td>0</td>\n",
              "      <td>34</td>\n",
              "      <td>2</td>\n",
              "      <td>98</td>\n",
              "      <td>144.0</td>\n",
              "      <td>8729.6</td>\n",
              "      <td>134</td>\n",
              "    </tr>\n",
              "    <tr>\n",
              "      <th>999889</th>\n",
              "      <td>305711</td>\n",
              "      <td>7746</td>\n",
              "      <td>283</td>\n",
              "      <td>10.0</td>\n",
              "      <td>0</td>\n",
              "      <td>72</td>\n",
              "      <td>1</td>\n",
              "      <td>1</td>\n",
              "      <td>51</td>\n",
              "      <td>2</td>\n",
              "      <td>0</td>\n",
              "      <td>0</td>\n",
              "      <td>5</td>\n",
              "      <td>3</td>\n",
              "      <td>119</td>\n",
              "      <td>144.0</td>\n",
              "      <td>3031.0</td>\n",
              "      <td>127</td>\n",
              "    </tr>\n",
              "  </tbody>\n",
              "</table>\n",
              "<p>998472 rows × 18 columns</p>\n",
              "</div>"
            ],
            "text/plain": [
              "        Unnamed: 0  fligth_number  distance  noshow  denied_boarding  \\\n",
              "0           389083           8995      1394     9.0                0   \n",
              "1           177073           7061       489     0.0                0   \n",
              "2          1040357           8972      2180     4.0                0   \n",
              "3           505258           6039       524    13.0                0   \n",
              "4           369663           7713      1170    14.0                0   \n",
              "...            ...            ...       ...     ...              ...   \n",
              "999885      359783           6024       552     5.0                0   \n",
              "999886      152315           6669      3934     4.0                0   \n",
              "999887     1000747           9094      1430     5.0                0   \n",
              "999888      117952           7704      1091     2.0                0   \n",
              "999889      305711           7746       283    10.0                0   \n",
              "\n",
              "        pax_midlow  pax_high  pax_midhigh  pax_low  pax_freqflyer  \\\n",
              "0               94         2           28       94             22   \n",
              "1              100         4            4       87             25   \n",
              "2                7         1            5       64              2   \n",
              "3               54         4            7       21              4   \n",
              "4               21        88           18       82              0   \n",
              "...            ...       ...          ...      ...            ...   \n",
              "999885          25        12           20        4             12   \n",
              "999886         129         3           19      121              2   \n",
              "999887           2         1            0      108             20   \n",
              "999888          67         2            7       42             16   \n",
              "999889          72         1            1       51              2   \n",
              "\n",
              "        group_bookings  out_of_stock  dom_cnx  int_cnx  p2p  capacity  \\\n",
              "0                   19             0        1        0  239     174.0   \n",
              "1                    0             0       19        9  192     174.0   \n",
              "2                    0             0        0       10   69     218.0   \n",
              "3                    0             0       26        0   64     174.0   \n",
              "4                   88             1       23        3  183     144.0   \n",
              "...                ...           ...      ...      ...  ...       ...   \n",
              "999885               0             0       64        9    0     144.0   \n",
              "999886              20             0        0      118  156     168.0   \n",
              "999887              36             0        7        0  124     218.0   \n",
              "999888               0             0       34        2   98     144.0   \n",
              "999889               0             0        5        3  119     144.0   \n",
              "\n",
              "        revenues_usd  bookings  \n",
              "0            10631.1       240  \n",
              "1             5453.7       220  \n",
              "2            16161.0        79  \n",
              "3            10828.7        90  \n",
              "4            16721.6       209  \n",
              "...              ...       ...  \n",
              "999885       14102.1        73  \n",
              "999886       32907.8       274  \n",
              "999887       13519.3       131  \n",
              "999888        8729.6       134  \n",
              "999889        3031.0       127  \n",
              "\n",
              "[998472 rows x 18 columns]"
            ]
          },
          "execution_count": 107,
          "metadata": {},
          "output_type": "execute_result"
        }
      ],
      "source": [
        "categorical = df_trainData.iloc[:,[1,3,4,18]]\n",
        "# df_trainData = pd.get_dummies(categorical)\n",
        "df_trainData.drop(categorical, inplace=True, axis=1)\n",
        "df_trainData"
      ]
    },
    {
      "cell_type": "code",
      "execution_count": null,
      "id": "1f76c378",
      "metadata": {},
      "outputs": [],
      "source": [
        "import numpy as np\n",
        "import pandas as pd\n",
        "from plotnine import *\n",
        "from sklearn import datasets\n",
        "from sklearn.model_selection import train_test_split\n",
        "from sklearn.tree import DecisionTreeClassifier\n",
        "\n",
        "train = df_trainData\n",
        "eval = df_evalData\n",
        "b = pd.DataFrame(train['noshow'])\n",
        "a = (train.drop(columns=['noshow']))\n",
        "X_train, X_test, y_train, y_test = train_test_split(a,b, test_size=0.3, random_state=42)"
      ]
    },
    {
      "cell_type": "markdown",
      "id": "f4adbbe8",
      "metadata": {},
      "source": [
        "Entrenando el modelo."
      ]
    },
    {
      "cell_type": "code",
      "execution_count": null,
      "id": "96852668",
      "metadata": {},
      "outputs": [],
      "source": [
        "from sklearn.metrics import f1_score\n",
        "from sklearn.model_selection import KFold\n",
        "a = (df_trainData.drop(columns=['noshow']))\n",
        "b = pd.DataFrame(train['noshow'])\n",
        "numFolds=10\n",
        "kf = KFold(n_splits=numFolds,shuffle=True)\n",
        "for i in range(1,25):\n",
        "    AD = DecisionTreeClassifier(max_depth=i)\n",
        "\n",
        "    #Generando los k-fold\n",
        "    temp=kf.split(a)\n",
        "\n",
        "    errorTest=np.zeros((numFolds,1))\n",
        "    errorTrain=np.zeros((numFolds,1))\n",
        "    index=0\n",
        "    for train_index, test_index in temp:\n",
        "        AD = AD.fit(a.iloc[train_index,:],b.iloc[train_index,:])\n",
        "        resultado=AD.predict(a.iloc[test_index,:])\n",
        "        errorTest[index] = f1_score(b.iloc[test_index],resultado)\n",
        "\n",
        "        resultado=AD.predict(a.iloc[train_index,:])\n",
        "        errorTrain[index] = f1_score(b.iloc[train_index],resultado)\n",
        "\n",
        "\n",
        "        index+=1\n",
        "    print(f\"Errores con máximo de profundidad {i}:\")\n",
        "    print(\"Train: \",errorTrain.mean(),\"+-\",errorTrain.std())\n",
        "    print(\"Test: \",errorTest.mean(),\"+-\",errorTest.std())"
      ]
    },
    {
      "cell_type": "code",
      "execution_count": null,
      "id": "8fb2d595",
      "metadata": {},
      "outputs": [],
      "source": [
        "'''\n",
        "Errores con máximo de profundidad 1:\n",
        "Train:  0.6614784020003548 +- 0.0001887017607410128\n",
        "Test:  0.6614759892666804 +- 0.001696509911053428\n",
        "Errores con máximo de profundidad 2:\n",
        "Train:  0.7099284669900174 +- 0.00010516110710079574\n",
        "Test:  0.7099200234945213 +- 0.0009338125515471541\n",
        "Errores con máximo de profundidad 3:\n",
        "Train:  0.6902712480574398 +- 0.00041097395346340585\n",
        "Test:  0.690230496791753 +- 0.0015046861174831492\n",
        "Errores con máximo de profundidad 4:\n",
        "Train:  0.6918081500334365 +- 0.0021643695828875223\n",
        "Test:  0.6915067663163678 +- 0.0022427496419493535\n",
        "Errores con máximo de profundidad 5:\n",
        "Train:  0.6892297352626618 +- 0.0024373526929998357\n",
        "Test:  0.6890041925965333 +- 0.003203163771772659\n",
        "'''"
      ]
    },
    {
      "cell_type": "markdown",
      "id": "186e210a",
      "metadata": {},
      "source": [
        "Como podemos ver el mejor resultado arrojado fue para el valor de 2 niveles de profundidad del árbol."
      ]
    },
    {
      "cell_type": "markdown",
      "id": "3Zx1FpQ_VHPu",
      "metadata": {
        "id": "3Zx1FpQ_VHPu"
      },
      "source": [
        "-Agustín Soto"
      ]
    },
    {
      "cell_type": "markdown",
      "id": "77be3f2f",
      "metadata": {},
      "source": [
        "Se descartan las variables categóricas con el fin de evitar aumentar excesivamente el número de dimensiones y la multicolinealidad."
      ]
    },
    {
      "cell_type": "markdown",
      "id": "2ed5711e",
      "metadata": {},
      "source": [
        "Separamos la variable a predecir de las demás."
      ]
    },
    {
      "cell_type": "code",
      "execution_count": 28,
      "id": "74b99fd1",
      "metadata": {},
      "outputs": [],
      "source": [
        "X = df_trainData[['Unnamed: 0',\n",
        "       'distance', 'denied_boarding', 'pax_midlow', 'pax_high',\n",
        "       'pax_midhigh', 'pax_low', 'pax_freqflyer', 'group_bookings',\n",
        "       'out_of_stock', 'dom_cnx', 'int_cnx', 'p2p',\n",
        "       'capacity', 'revenues_usd', 'bookings']]\n",
        "\n",
        "Y = df_trainData[['noshow']]"
      ]
    },
    {
      "cell_type": "markdown",
      "id": "c98e84a9",
      "metadata": {},
      "source": [
        "Procedemos a descartar las variables numéricas que generar multicolinealidad para así entrenar correctamente el modelo. Para determinarla utilizaremos el factor VIF: https://www.researchgate.net/profile/Noora-Shrestha/publication/342413955_Detecting_Multicollinearity_in_Regression_Analysis/links/5eff2033458515505087a949/Detecting-Multicollinearity-in-Regression-Analysis.pdf"
      ]
    },
    {
      "cell_type": "code",
      "execution_count": 29,
      "id": "b4b942b8",
      "metadata": {},
      "outputs": [
        {
          "name": "stderr",
          "output_type": "stream",
          "text": [
            "c:\\Users\\56967\\AppData\\Local\\Programs\\Python\\Python310\\lib\\site-packages\\statsmodels\\stats\\outliers_influence.py:195: RuntimeWarning: divide by zero encountered in double_scalars\n"
          ]
        },
        {
          "name": "stdout",
          "output_type": "stream",
          "text": [
            "            feature        VIF\n",
            "0        Unnamed: 0   4.027103\n",
            "1          distance   8.056587\n",
            "2   denied_boarding   1.016428\n",
            "3        pax_midlow        inf\n",
            "4          pax_high        inf\n",
            "5       pax_midhigh        inf\n",
            "6           pax_low        inf\n",
            "7     pax_freqflyer        inf\n",
            "8    group_bookings   1.202758\n",
            "9      out_of_stock   1.174046\n",
            "10          dom_cnx        inf\n",
            "11          int_cnx        inf\n",
            "12              p2p        inf\n",
            "13         capacity  18.077226\n",
            "14     revenues_usd   8.456888\n",
            "15         bookings        inf\n"
          ]
        }
      ],
      "source": [
        "from statsmodels.stats.outliers_influence import variance_inflation_factor\n",
        "\n",
        "vif_data = pd.DataFrame()\n",
        "vif_data[\"feature\"] = X.columns\n",
        "  \n",
        "# calculating VIF for each feature\n",
        "vif_data[\"VIF\"] = [variance_inflation_factor(X.values, i)\n",
        "                          for i in range(len(X.columns))]\n",
        "  \n",
        "print(vif_data)"
      ]
    },
    {
      "cell_type": "markdown",
      "id": "93d4a2c3",
      "metadata": {},
      "source": [
        "![image.png](data:image/png;base64,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)"
      ]
    },
    {
      "cell_type": "markdown",
      "id": "3d303fb5",
      "metadata": {},
      "source": [
        "Procedemos a descartar variables."
      ]
    },
    {
      "cell_type": "code",
      "execution_count": 30,
      "id": "85d47b04",
      "metadata": {},
      "outputs": [
        {
          "data": {
            "text/html": [
              "<div>\n",
              "<style scoped>\n",
              "    .dataframe tbody tr th:only-of-type {\n",
              "        vertical-align: middle;\n",
              "    }\n",
              "\n",
              "    .dataframe tbody tr th {\n",
              "        vertical-align: top;\n",
              "    }\n",
              "\n",
              "    .dataframe thead th {\n",
              "        text-align: right;\n",
              "    }\n",
              "</style>\n",
              "<table border=\"1\" class=\"dataframe\">\n",
              "  <thead>\n",
              "    <tr style=\"text-align: right;\">\n",
              "      <th></th>\n",
              "      <th>Unnamed: 0</th>\n",
              "      <th>distance</th>\n",
              "      <th>denied_boarding</th>\n",
              "      <th>group_bookings</th>\n",
              "      <th>out_of_stock</th>\n",
              "      <th>capacity</th>\n",
              "      <th>revenues_usd</th>\n",
              "    </tr>\n",
              "  </thead>\n",
              "  <tbody>\n",
              "    <tr>\n",
              "      <th>0</th>\n",
              "      <td>389083</td>\n",
              "      <td>1394</td>\n",
              "      <td>0</td>\n",
              "      <td>19</td>\n",
              "      <td>0</td>\n",
              "      <td>174.0</td>\n",
              "      <td>10631.1</td>\n",
              "    </tr>\n",
              "    <tr>\n",
              "      <th>1</th>\n",
              "      <td>177073</td>\n",
              "      <td>489</td>\n",
              "      <td>0</td>\n",
              "      <td>0</td>\n",
              "      <td>0</td>\n",
              "      <td>174.0</td>\n",
              "      <td>5453.7</td>\n",
              "    </tr>\n",
              "    <tr>\n",
              "      <th>2</th>\n",
              "      <td>1040357</td>\n",
              "      <td>2180</td>\n",
              "      <td>0</td>\n",
              "      <td>0</td>\n",
              "      <td>0</td>\n",
              "      <td>218.0</td>\n",
              "      <td>16161.0</td>\n",
              "    </tr>\n",
              "    <tr>\n",
              "      <th>3</th>\n",
              "      <td>505258</td>\n",
              "      <td>524</td>\n",
              "      <td>0</td>\n",
              "      <td>0</td>\n",
              "      <td>0</td>\n",
              "      <td>174.0</td>\n",
              "      <td>10828.7</td>\n",
              "    </tr>\n",
              "    <tr>\n",
              "      <th>4</th>\n",
              "      <td>369663</td>\n",
              "      <td>1170</td>\n",
              "      <td>0</td>\n",
              "      <td>88</td>\n",
              "      <td>1</td>\n",
              "      <td>144.0</td>\n",
              "      <td>16721.6</td>\n",
              "    </tr>\n",
              "    <tr>\n",
              "      <th>...</th>\n",
              "      <td>...</td>\n",
              "      <td>...</td>\n",
              "      <td>...</td>\n",
              "      <td>...</td>\n",
              "      <td>...</td>\n",
              "      <td>...</td>\n",
              "      <td>...</td>\n",
              "    </tr>\n",
              "    <tr>\n",
              "      <th>999885</th>\n",
              "      <td>359783</td>\n",
              "      <td>552</td>\n",
              "      <td>0</td>\n",
              "      <td>0</td>\n",
              "      <td>0</td>\n",
              "      <td>144.0</td>\n",
              "      <td>14102.1</td>\n",
              "    </tr>\n",
              "    <tr>\n",
              "      <th>999886</th>\n",
              "      <td>152315</td>\n",
              "      <td>3934</td>\n",
              "      <td>0</td>\n",
              "      <td>20</td>\n",
              "      <td>0</td>\n",
              "      <td>168.0</td>\n",
              "      <td>32907.8</td>\n",
              "    </tr>\n",
              "    <tr>\n",
              "      <th>999887</th>\n",
              "      <td>1000747</td>\n",
              "      <td>1430</td>\n",
              "      <td>0</td>\n",
              "      <td>36</td>\n",
              "      <td>0</td>\n",
              "      <td>218.0</td>\n",
              "      <td>13519.3</td>\n",
              "    </tr>\n",
              "    <tr>\n",
              "      <th>999888</th>\n",
              "      <td>117952</td>\n",
              "      <td>1091</td>\n",
              "      <td>0</td>\n",
              "      <td>0</td>\n",
              "      <td>0</td>\n",
              "      <td>144.0</td>\n",
              "      <td>8729.6</td>\n",
              "    </tr>\n",
              "    <tr>\n",
              "      <th>999889</th>\n",
              "      <td>305711</td>\n",
              "      <td>283</td>\n",
              "      <td>0</td>\n",
              "      <td>0</td>\n",
              "      <td>0</td>\n",
              "      <td>144.0</td>\n",
              "      <td>3031.0</td>\n",
              "    </tr>\n",
              "  </tbody>\n",
              "</table>\n",
              "<p>998472 rows × 7 columns</p>\n",
              "</div>"
            ],
            "text/plain": [
              "        Unnamed: 0  distance  denied_boarding  group_bookings  out_of_stock  \\\n",
              "0           389083      1394                0              19             0   \n",
              "1           177073       489                0               0             0   \n",
              "2          1040357      2180                0               0             0   \n",
              "3           505258       524                0               0             0   \n",
              "4           369663      1170                0              88             1   \n",
              "...            ...       ...              ...             ...           ...   \n",
              "999885      359783       552                0               0             0   \n",
              "999886      152315      3934                0              20             0   \n",
              "999887     1000747      1430                0              36             0   \n",
              "999888      117952      1091                0               0             0   \n",
              "999889      305711       283                0               0             0   \n",
              "\n",
              "        capacity  revenues_usd  \n",
              "0          174.0       10631.1  \n",
              "1          174.0        5453.7  \n",
              "2          218.0       16161.0  \n",
              "3          174.0       10828.7  \n",
              "4          144.0       16721.6  \n",
              "...          ...           ...  \n",
              "999885     144.0       14102.1  \n",
              "999886     168.0       32907.8  \n",
              "999887     218.0       13519.3  \n",
              "999888     144.0        8729.6  \n",
              "999889     144.0        3031.0  \n",
              "\n",
              "[998472 rows x 7 columns]"
            ]
          },
          "execution_count": 30,
          "metadata": {},
          "output_type": "execute_result"
        }
      ],
      "source": [
        "X = X.drop(labels=[\"pax_freqflyer\", \"pax_midlow\",\"pax_high\",\"pax_midhigh\",\"pax_low\",\"dom_cnx\",\"bookings\",\"int_cnx\",\"p2p\"],axis=1)\n",
        "X"
      ]
    },
    {
      "cell_type": "markdown",
      "id": "1fdbc6dd",
      "metadata": {},
      "source": [
        "Busqueda de hiperparámetros: según el profesor no era necesario hacer una búsqueda de hiperparámetros debido a que no se trabajaron en clases, sin embargo decidí hacer búsqueda de estos utilizando GridSearchCV.\n",
        "https://machinelearningmastery.com/hyperparameter-optimization-with-random-search-and-grid-search/"
      ]
    },
    {
      "cell_type": "code",
      "execution_count": 31,
      "id": "a18e87b1",
      "metadata": {},
      "outputs": [
        {
          "name": "stderr",
          "output_type": "stream",
          "text": [
            "c:\\Users\\56967\\AppData\\Local\\Programs\\Python\\Python310\\lib\\site-packages\\sklearn\\linear_model\\_logistic.py:1483: UserWarning: Setting penalty='none' will ignore the C and l1_ratio parameters\n",
            "c:\\Users\\56967\\AppData\\Local\\Programs\\Python\\Python310\\lib\\site-packages\\sklearn\\linear_model\\_logistic.py:1483: UserWarning: Setting penalty='none' will ignore the C and l1_ratio parameters\n",
            "c:\\Users\\56967\\AppData\\Local\\Programs\\Python\\Python310\\lib\\site-packages\\sklearn\\linear_model\\_logistic.py:1483: UserWarning: Setting penalty='none' will ignore the C and l1_ratio parameters\n",
            "c:\\Users\\56967\\AppData\\Local\\Programs\\Python\\Python310\\lib\\site-packages\\sklearn\\linear_model\\_logistic.py:1483: UserWarning: Setting penalty='none' will ignore the C and l1_ratio parameters\n",
            "c:\\Users\\56967\\AppData\\Local\\Programs\\Python\\Python310\\lib\\site-packages\\sklearn\\linear_model\\_logistic.py:1483: UserWarning: Setting penalty='none' will ignore the C and l1_ratio parameters\n",
            "c:\\Users\\56967\\AppData\\Local\\Programs\\Python\\Python310\\lib\\site-packages\\sklearn\\linear_model\\_logistic.py:1483: UserWarning: Setting penalty='none' will ignore the C and l1_ratio parameters\n",
            "c:\\Users\\56967\\AppData\\Local\\Programs\\Python\\Python310\\lib\\site-packages\\sklearn\\linear_model\\_logistic.py:1483: UserWarning: Setting penalty='none' will ignore the C and l1_ratio parameters\n",
            "c:\\Users\\56967\\AppData\\Local\\Programs\\Python\\Python310\\lib\\site-packages\\sklearn\\linear_model\\_logistic.py:1483: UserWarning: Setting penalty='none' will ignore the C and l1_ratio parameters\n",
            "c:\\Users\\56967\\AppData\\Local\\Programs\\Python\\Python310\\lib\\site-packages\\sklearn\\linear_model\\_logistic.py:1483: UserWarning: Setting penalty='none' will ignore the C and l1_ratio parameters\n",
            "c:\\Users\\56967\\AppData\\Local\\Programs\\Python\\Python310\\lib\\site-packages\\sklearn\\linear_model\\_logistic.py:1483: UserWarning: Setting penalty='none' will ignore the C and l1_ratio parameters\n",
            "c:\\Users\\56967\\AppData\\Local\\Programs\\Python\\Python310\\lib\\site-packages\\sklearn\\linear_model\\_logistic.py:1483: UserWarning: Setting penalty='none' will ignore the C and l1_ratio parameters\n",
            "c:\\Users\\56967\\AppData\\Local\\Programs\\Python\\Python310\\lib\\site-packages\\sklearn\\linear_model\\_logistic.py:1483: UserWarning: Setting penalty='none' will ignore the C and l1_ratio parameters\n"
          ]
        },
        {
          "ename": "KeyboardInterrupt",
          "evalue": "",
          "output_type": "error",
          "traceback": [
            "\u001b[1;31m---------------------------------------------------------------------------\u001b[0m",
            "\u001b[1;31mKeyboardInterrupt\u001b[0m                         Traceback (most recent call last)",
            "\u001b[1;32mc:\\Users\\56967\\Desktop\\UAI\\Semestre V\\Minería de datos\\Proyecto 2\\Proyecto2_MD.ipynb Cell 44'\u001b[0m in \u001b[0;36m<cell line: 18>\u001b[1;34m()\u001b[0m\n\u001b[0;32m     <a href='vscode-notebook-cell:/c%3A/Users/56967/Desktop/UAI/Semestre%20V/Miner%C3%ADa%20de%20datos/Proyecto%202/Proyecto2_MD.ipynb#ch0000052?line=15'>16</a>\u001b[0m search \u001b[39m=\u001b[39m GridSearchCV(logistic, space, scoring\u001b[39m=\u001b[39m\u001b[39m'\u001b[39m\u001b[39mf1\u001b[39m\u001b[39m'\u001b[39m, cv\u001b[39m=\u001b[39m\u001b[39m10\u001b[39m)\n\u001b[0;32m     <a href='vscode-notebook-cell:/c%3A/Users/56967/Desktop/UAI/Semestre%20V/Miner%C3%ADa%20de%20datos/Proyecto%202/Proyecto2_MD.ipynb#ch0000052?line=16'>17</a>\u001b[0m \u001b[39m# execute search\u001b[39;00m\n\u001b[1;32m---> <a href='vscode-notebook-cell:/c%3A/Users/56967/Desktop/UAI/Semestre%20V/Miner%C3%ADa%20de%20datos/Proyecto%202/Proyecto2_MD.ipynb#ch0000052?line=17'>18</a>\u001b[0m result \u001b[39m=\u001b[39m search\u001b[39m.\u001b[39;49mfit(np\u001b[39m.\u001b[39;49marray(X), np\u001b[39m.\u001b[39;49mravel(Y))\n\u001b[0;32m     <a href='vscode-notebook-cell:/c%3A/Users/56967/Desktop/UAI/Semestre%20V/Miner%C3%ADa%20de%20datos/Proyecto%202/Proyecto2_MD.ipynb#ch0000052?line=18'>19</a>\u001b[0m \u001b[39m# summarize result\u001b[39;00m\n\u001b[0;32m     <a href='vscode-notebook-cell:/c%3A/Users/56967/Desktop/UAI/Semestre%20V/Miner%C3%ADa%20de%20datos/Proyecto%202/Proyecto2_MD.ipynb#ch0000052?line=19'>20</a>\u001b[0m \u001b[39mprint\u001b[39m(\u001b[39m'\u001b[39m\u001b[39mBest Score: \u001b[39m\u001b[39m%s\u001b[39;00m\u001b[39m'\u001b[39m \u001b[39m%\u001b[39m result\u001b[39m.\u001b[39mbest_score_)\n",
            "File \u001b[1;32mc:\\Users\\56967\\AppData\\Local\\Programs\\Python\\Python310\\lib\\site-packages\\sklearn\\model_selection\\_search.py:891\u001b[0m, in \u001b[0;36mBaseSearchCV.fit\u001b[1;34m(self, X, y, groups, **fit_params)\u001b[0m\n\u001b[0;32m    885\u001b[0m     results \u001b[39m=\u001b[39m \u001b[39mself\u001b[39m\u001b[39m.\u001b[39m_format_results(\n\u001b[0;32m    886\u001b[0m         all_candidate_params, n_splits, all_out, all_more_results\n\u001b[0;32m    887\u001b[0m     )\n\u001b[0;32m    889\u001b[0m     \u001b[39mreturn\u001b[39;00m results\n\u001b[1;32m--> 891\u001b[0m \u001b[39mself\u001b[39;49m\u001b[39m.\u001b[39;49m_run_search(evaluate_candidates)\n\u001b[0;32m    893\u001b[0m \u001b[39m# multimetric is determined here because in the case of a callable\u001b[39;00m\n\u001b[0;32m    894\u001b[0m \u001b[39m# self.scoring the return type is only known after calling\u001b[39;00m\n\u001b[0;32m    895\u001b[0m first_test_score \u001b[39m=\u001b[39m all_out[\u001b[39m0\u001b[39m][\u001b[39m\"\u001b[39m\u001b[39mtest_scores\u001b[39m\u001b[39m\"\u001b[39m]\n",
            "File \u001b[1;32mc:\\Users\\56967\\AppData\\Local\\Programs\\Python\\Python310\\lib\\site-packages\\sklearn\\model_selection\\_search.py:1392\u001b[0m, in \u001b[0;36mGridSearchCV._run_search\u001b[1;34m(self, evaluate_candidates)\u001b[0m\n\u001b[0;32m   1390\u001b[0m \u001b[39mdef\u001b[39;00m \u001b[39m_run_search\u001b[39m(\u001b[39mself\u001b[39m, evaluate_candidates):\n\u001b[0;32m   1391\u001b[0m     \u001b[39m\"\"\"Search all candidates in param_grid\"\"\"\u001b[39;00m\n\u001b[1;32m-> 1392\u001b[0m     evaluate_candidates(ParameterGrid(\u001b[39mself\u001b[39;49m\u001b[39m.\u001b[39;49mparam_grid))\n",
            "File \u001b[1;32mc:\\Users\\56967\\AppData\\Local\\Programs\\Python\\Python310\\lib\\site-packages\\sklearn\\model_selection\\_search.py:838\u001b[0m, in \u001b[0;36mBaseSearchCV.fit.<locals>.evaluate_candidates\u001b[1;34m(candidate_params, cv, more_results)\u001b[0m\n\u001b[0;32m    830\u001b[0m \u001b[39mif\u001b[39;00m \u001b[39mself\u001b[39m\u001b[39m.\u001b[39mverbose \u001b[39m>\u001b[39m \u001b[39m0\u001b[39m:\n\u001b[0;32m    831\u001b[0m     \u001b[39mprint\u001b[39m(\n\u001b[0;32m    832\u001b[0m         \u001b[39m\"\u001b[39m\u001b[39mFitting \u001b[39m\u001b[39m{0}\u001b[39;00m\u001b[39m folds for each of \u001b[39m\u001b[39m{1}\u001b[39;00m\u001b[39m candidates,\u001b[39m\u001b[39m\"\u001b[39m\n\u001b[0;32m    833\u001b[0m         \u001b[39m\"\u001b[39m\u001b[39m totalling \u001b[39m\u001b[39m{2}\u001b[39;00m\u001b[39m fits\u001b[39m\u001b[39m\"\u001b[39m\u001b[39m.\u001b[39mformat(\n\u001b[0;32m    834\u001b[0m             n_splits, n_candidates, n_candidates \u001b[39m*\u001b[39m n_splits\n\u001b[0;32m    835\u001b[0m         )\n\u001b[0;32m    836\u001b[0m     )\n\u001b[1;32m--> 838\u001b[0m out \u001b[39m=\u001b[39m parallel(\n\u001b[0;32m    839\u001b[0m     delayed(_fit_and_score)(\n\u001b[0;32m    840\u001b[0m         clone(base_estimator),\n\u001b[0;32m    841\u001b[0m         X,\n\u001b[0;32m    842\u001b[0m         y,\n\u001b[0;32m    843\u001b[0m         train\u001b[39m=\u001b[39;49mtrain,\n\u001b[0;32m    844\u001b[0m         test\u001b[39m=\u001b[39;49mtest,\n\u001b[0;32m    845\u001b[0m         parameters\u001b[39m=\u001b[39;49mparameters,\n\u001b[0;32m    846\u001b[0m         split_progress\u001b[39m=\u001b[39;49m(split_idx, n_splits),\n\u001b[0;32m    847\u001b[0m         candidate_progress\u001b[39m=\u001b[39;49m(cand_idx, n_candidates),\n\u001b[0;32m    848\u001b[0m         \u001b[39m*\u001b[39;49m\u001b[39m*\u001b[39;49mfit_and_score_kwargs,\n\u001b[0;32m    849\u001b[0m     )\n\u001b[0;32m    850\u001b[0m     \u001b[39mfor\u001b[39;49;00m (cand_idx, parameters), (split_idx, (train, test)) \u001b[39min\u001b[39;49;00m product(\n\u001b[0;32m    851\u001b[0m         \u001b[39menumerate\u001b[39;49m(candidate_params), \u001b[39menumerate\u001b[39;49m(cv\u001b[39m.\u001b[39;49msplit(X, y, groups))\n\u001b[0;32m    852\u001b[0m     )\n\u001b[0;32m    853\u001b[0m )\n\u001b[0;32m    855\u001b[0m \u001b[39mif\u001b[39;00m \u001b[39mlen\u001b[39m(out) \u001b[39m<\u001b[39m \u001b[39m1\u001b[39m:\n\u001b[0;32m    856\u001b[0m     \u001b[39mraise\u001b[39;00m \u001b[39mValueError\u001b[39;00m(\n\u001b[0;32m    857\u001b[0m         \u001b[39m\"\u001b[39m\u001b[39mNo fits were performed. \u001b[39m\u001b[39m\"\u001b[39m\n\u001b[0;32m    858\u001b[0m         \u001b[39m\"\u001b[39m\u001b[39mWas the CV iterator empty? \u001b[39m\u001b[39m\"\u001b[39m\n\u001b[0;32m    859\u001b[0m         \u001b[39m\"\u001b[39m\u001b[39mWere there no candidates?\u001b[39m\u001b[39m\"\u001b[39m\n\u001b[0;32m    860\u001b[0m     )\n",
            "File \u001b[1;32mc:\\Users\\56967\\AppData\\Local\\Programs\\Python\\Python310\\lib\\site-packages\\joblib\\parallel.py:1046\u001b[0m, in \u001b[0;36mParallel.__call__\u001b[1;34m(self, iterable)\u001b[0m\n\u001b[0;32m   1043\u001b[0m \u001b[39mif\u001b[39;00m \u001b[39mself\u001b[39m\u001b[39m.\u001b[39mdispatch_one_batch(iterator):\n\u001b[0;32m   1044\u001b[0m     \u001b[39mself\u001b[39m\u001b[39m.\u001b[39m_iterating \u001b[39m=\u001b[39m \u001b[39mself\u001b[39m\u001b[39m.\u001b[39m_original_iterator \u001b[39mis\u001b[39;00m \u001b[39mnot\u001b[39;00m \u001b[39mNone\u001b[39;00m\n\u001b[1;32m-> 1046\u001b[0m \u001b[39mwhile\u001b[39;00m \u001b[39mself\u001b[39;49m\u001b[39m.\u001b[39;49mdispatch_one_batch(iterator):\n\u001b[0;32m   1047\u001b[0m     \u001b[39mpass\u001b[39;00m\n\u001b[0;32m   1049\u001b[0m \u001b[39mif\u001b[39;00m pre_dispatch \u001b[39m==\u001b[39m \u001b[39m\"\u001b[39m\u001b[39mall\u001b[39m\u001b[39m\"\u001b[39m \u001b[39mor\u001b[39;00m n_jobs \u001b[39m==\u001b[39m \u001b[39m1\u001b[39m:\n\u001b[0;32m   1050\u001b[0m     \u001b[39m# The iterable was consumed all at once by the above for loop.\u001b[39;00m\n\u001b[0;32m   1051\u001b[0m     \u001b[39m# No need to wait for async callbacks to trigger to\u001b[39;00m\n\u001b[0;32m   1052\u001b[0m     \u001b[39m# consumption.\u001b[39;00m\n",
            "File \u001b[1;32mc:\\Users\\56967\\AppData\\Local\\Programs\\Python\\Python310\\lib\\site-packages\\joblib\\parallel.py:861\u001b[0m, in \u001b[0;36mParallel.dispatch_one_batch\u001b[1;34m(self, iterator)\u001b[0m\n\u001b[0;32m    859\u001b[0m     \u001b[39mreturn\u001b[39;00m \u001b[39mFalse\u001b[39;00m\n\u001b[0;32m    860\u001b[0m \u001b[39melse\u001b[39;00m:\n\u001b[1;32m--> 861\u001b[0m     \u001b[39mself\u001b[39;49m\u001b[39m.\u001b[39;49m_dispatch(tasks)\n\u001b[0;32m    862\u001b[0m     \u001b[39mreturn\u001b[39;00m \u001b[39mTrue\u001b[39;00m\n",
            "File \u001b[1;32mc:\\Users\\56967\\AppData\\Local\\Programs\\Python\\Python310\\lib\\site-packages\\joblib\\parallel.py:779\u001b[0m, in \u001b[0;36mParallel._dispatch\u001b[1;34m(self, batch)\u001b[0m\n\u001b[0;32m    777\u001b[0m \u001b[39mwith\u001b[39;00m \u001b[39mself\u001b[39m\u001b[39m.\u001b[39m_lock:\n\u001b[0;32m    778\u001b[0m     job_idx \u001b[39m=\u001b[39m \u001b[39mlen\u001b[39m(\u001b[39mself\u001b[39m\u001b[39m.\u001b[39m_jobs)\n\u001b[1;32m--> 779\u001b[0m     job \u001b[39m=\u001b[39m \u001b[39mself\u001b[39;49m\u001b[39m.\u001b[39;49m_backend\u001b[39m.\u001b[39;49mapply_async(batch, callback\u001b[39m=\u001b[39;49mcb)\n\u001b[0;32m    780\u001b[0m     \u001b[39m# A job can complete so quickly than its callback is\u001b[39;00m\n\u001b[0;32m    781\u001b[0m     \u001b[39m# called before we get here, causing self._jobs to\u001b[39;00m\n\u001b[0;32m    782\u001b[0m     \u001b[39m# grow. To ensure correct results ordering, .insert is\u001b[39;00m\n\u001b[0;32m    783\u001b[0m     \u001b[39m# used (rather than .append) in the following line\u001b[39;00m\n\u001b[0;32m    784\u001b[0m     \u001b[39mself\u001b[39m\u001b[39m.\u001b[39m_jobs\u001b[39m.\u001b[39minsert(job_idx, job)\n",
            "File \u001b[1;32mc:\\Users\\56967\\AppData\\Local\\Programs\\Python\\Python310\\lib\\site-packages\\joblib\\_parallel_backends.py:208\u001b[0m, in \u001b[0;36mSequentialBackend.apply_async\u001b[1;34m(self, func, callback)\u001b[0m\n\u001b[0;32m    206\u001b[0m \u001b[39mdef\u001b[39;00m \u001b[39mapply_async\u001b[39m(\u001b[39mself\u001b[39m, func, callback\u001b[39m=\u001b[39m\u001b[39mNone\u001b[39;00m):\n\u001b[0;32m    207\u001b[0m     \u001b[39m\"\"\"Schedule a func to be run\"\"\"\u001b[39;00m\n\u001b[1;32m--> 208\u001b[0m     result \u001b[39m=\u001b[39m ImmediateResult(func)\n\u001b[0;32m    209\u001b[0m     \u001b[39mif\u001b[39;00m callback:\n\u001b[0;32m    210\u001b[0m         callback(result)\n",
            "File \u001b[1;32mc:\\Users\\56967\\AppData\\Local\\Programs\\Python\\Python310\\lib\\site-packages\\joblib\\_parallel_backends.py:572\u001b[0m, in \u001b[0;36mImmediateResult.__init__\u001b[1;34m(self, batch)\u001b[0m\n\u001b[0;32m    569\u001b[0m \u001b[39mdef\u001b[39;00m \u001b[39m__init__\u001b[39m(\u001b[39mself\u001b[39m, batch):\n\u001b[0;32m    570\u001b[0m     \u001b[39m# Don't delay the application, to avoid keeping the input\u001b[39;00m\n\u001b[0;32m    571\u001b[0m     \u001b[39m# arguments in memory\u001b[39;00m\n\u001b[1;32m--> 572\u001b[0m     \u001b[39mself\u001b[39m\u001b[39m.\u001b[39mresults \u001b[39m=\u001b[39m batch()\n",
            "File \u001b[1;32mc:\\Users\\56967\\AppData\\Local\\Programs\\Python\\Python310\\lib\\site-packages\\joblib\\parallel.py:262\u001b[0m, in \u001b[0;36mBatchedCalls.__call__\u001b[1;34m(self)\u001b[0m\n\u001b[0;32m    258\u001b[0m \u001b[39mdef\u001b[39;00m \u001b[39m__call__\u001b[39m(\u001b[39mself\u001b[39m):\n\u001b[0;32m    259\u001b[0m     \u001b[39m# Set the default nested backend to self._backend but do not set the\u001b[39;00m\n\u001b[0;32m    260\u001b[0m     \u001b[39m# change the default number of processes to -1\u001b[39;00m\n\u001b[0;32m    261\u001b[0m     \u001b[39mwith\u001b[39;00m parallel_backend(\u001b[39mself\u001b[39m\u001b[39m.\u001b[39m_backend, n_jobs\u001b[39m=\u001b[39m\u001b[39mself\u001b[39m\u001b[39m.\u001b[39m_n_jobs):\n\u001b[1;32m--> 262\u001b[0m         \u001b[39mreturn\u001b[39;00m [func(\u001b[39m*\u001b[39margs, \u001b[39m*\u001b[39m\u001b[39m*\u001b[39mkwargs)\n\u001b[0;32m    263\u001b[0m                 \u001b[39mfor\u001b[39;00m func, args, kwargs \u001b[39min\u001b[39;00m \u001b[39mself\u001b[39m\u001b[39m.\u001b[39mitems]\n",
            "File \u001b[1;32mc:\\Users\\56967\\AppData\\Local\\Programs\\Python\\Python310\\lib\\site-packages\\joblib\\parallel.py:262\u001b[0m, in \u001b[0;36m<listcomp>\u001b[1;34m(.0)\u001b[0m\n\u001b[0;32m    258\u001b[0m \u001b[39mdef\u001b[39;00m \u001b[39m__call__\u001b[39m(\u001b[39mself\u001b[39m):\n\u001b[0;32m    259\u001b[0m     \u001b[39m# Set the default nested backend to self._backend but do not set the\u001b[39;00m\n\u001b[0;32m    260\u001b[0m     \u001b[39m# change the default number of processes to -1\u001b[39;00m\n\u001b[0;32m    261\u001b[0m     \u001b[39mwith\u001b[39;00m parallel_backend(\u001b[39mself\u001b[39m\u001b[39m.\u001b[39m_backend, n_jobs\u001b[39m=\u001b[39m\u001b[39mself\u001b[39m\u001b[39m.\u001b[39m_n_jobs):\n\u001b[1;32m--> 262\u001b[0m         \u001b[39mreturn\u001b[39;00m [func(\u001b[39m*\u001b[39margs, \u001b[39m*\u001b[39m\u001b[39m*\u001b[39mkwargs)\n\u001b[0;32m    263\u001b[0m                 \u001b[39mfor\u001b[39;00m func, args, kwargs \u001b[39min\u001b[39;00m \u001b[39mself\u001b[39m\u001b[39m.\u001b[39mitems]\n",
            "File \u001b[1;32mc:\\Users\\56967\\AppData\\Local\\Programs\\Python\\Python310\\lib\\site-packages\\sklearn\\utils\\fixes.py:216\u001b[0m, in \u001b[0;36m_FuncWrapper.__call__\u001b[1;34m(self, *args, **kwargs)\u001b[0m\n\u001b[0;32m    214\u001b[0m \u001b[39mdef\u001b[39;00m \u001b[39m__call__\u001b[39m(\u001b[39mself\u001b[39m, \u001b[39m*\u001b[39margs, \u001b[39m*\u001b[39m\u001b[39m*\u001b[39mkwargs):\n\u001b[0;32m    215\u001b[0m     \u001b[39mwith\u001b[39;00m config_context(\u001b[39m*\u001b[39m\u001b[39m*\u001b[39m\u001b[39mself\u001b[39m\u001b[39m.\u001b[39mconfig):\n\u001b[1;32m--> 216\u001b[0m         \u001b[39mreturn\u001b[39;00m \u001b[39mself\u001b[39m\u001b[39m.\u001b[39mfunction(\u001b[39m*\u001b[39margs, \u001b[39m*\u001b[39m\u001b[39m*\u001b[39mkwargs)\n",
            "File \u001b[1;32mc:\\Users\\56967\\AppData\\Local\\Programs\\Python\\Python310\\lib\\site-packages\\sklearn\\model_selection\\_validation.py:680\u001b[0m, in \u001b[0;36m_fit_and_score\u001b[1;34m(estimator, X, y, scorer, train, test, verbose, parameters, fit_params, return_train_score, return_parameters, return_n_test_samples, return_times, return_estimator, split_progress, candidate_progress, error_score)\u001b[0m\n\u001b[0;32m    678\u001b[0m         estimator\u001b[39m.\u001b[39mfit(X_train, \u001b[39m*\u001b[39m\u001b[39m*\u001b[39mfit_params)\n\u001b[0;32m    679\u001b[0m     \u001b[39melse\u001b[39;00m:\n\u001b[1;32m--> 680\u001b[0m         estimator\u001b[39m.\u001b[39mfit(X_train, y_train, \u001b[39m*\u001b[39m\u001b[39m*\u001b[39mfit_params)\n\u001b[0;32m    682\u001b[0m \u001b[39mexcept\u001b[39;00m \u001b[39mException\u001b[39;00m:\n\u001b[0;32m    683\u001b[0m     \u001b[39m# Note fit time as time until error\u001b[39;00m\n\u001b[0;32m    684\u001b[0m     fit_time \u001b[39m=\u001b[39m time\u001b[39m.\u001b[39mtime() \u001b[39m-\u001b[39m start_time\n",
            "File \u001b[1;32mc:\\Users\\56967\\AppData\\Local\\Programs\\Python\\Python310\\lib\\site-packages\\sklearn\\linear_model\\_logistic.py:1589\u001b[0m, in \u001b[0;36mLogisticRegression.fit\u001b[1;34m(self, X, y, sample_weight)\u001b[0m\n\u001b[0;32m   1587\u001b[0m \u001b[39melse\u001b[39;00m:\n\u001b[0;32m   1588\u001b[0m     prefer \u001b[39m=\u001b[39m \u001b[39m\"\u001b[39m\u001b[39mprocesses\u001b[39m\u001b[39m\"\u001b[39m\n\u001b[1;32m-> 1589\u001b[0m fold_coefs_ \u001b[39m=\u001b[39m Parallel(\n\u001b[0;32m   1590\u001b[0m     n_jobs\u001b[39m=\u001b[39;49m\u001b[39mself\u001b[39;49m\u001b[39m.\u001b[39;49mn_jobs,\n\u001b[0;32m   1591\u001b[0m     verbose\u001b[39m=\u001b[39;49m\u001b[39mself\u001b[39;49m\u001b[39m.\u001b[39;49mverbose,\n\u001b[0;32m   1592\u001b[0m     \u001b[39m*\u001b[39;49m\u001b[39m*\u001b[39;49m_joblib_parallel_args(prefer\u001b[39m=\u001b[39;49mprefer),\n\u001b[0;32m   1593\u001b[0m )(\n\u001b[0;32m   1594\u001b[0m     path_func(\n\u001b[0;32m   1595\u001b[0m         X,\n\u001b[0;32m   1596\u001b[0m         y,\n\u001b[0;32m   1597\u001b[0m         pos_class\u001b[39m=\u001b[39;49mclass_,\n\u001b[0;32m   1598\u001b[0m         Cs\u001b[39m=\u001b[39;49m[C_],\n\u001b[0;32m   1599\u001b[0m         l1_ratio\u001b[39m=\u001b[39;49m\u001b[39mself\u001b[39;49m\u001b[39m.\u001b[39;49ml1_ratio,\n\u001b[0;32m   1600\u001b[0m         fit_intercept\u001b[39m=\u001b[39;49m\u001b[39mself\u001b[39;49m\u001b[39m.\u001b[39;49mfit_intercept,\n\u001b[0;32m   1601\u001b[0m         tol\u001b[39m=\u001b[39;49m\u001b[39mself\u001b[39;49m\u001b[39m.\u001b[39;49mtol,\n\u001b[0;32m   1602\u001b[0m         verbose\u001b[39m=\u001b[39;49m\u001b[39mself\u001b[39;49m\u001b[39m.\u001b[39;49mverbose,\n\u001b[0;32m   1603\u001b[0m         solver\u001b[39m=\u001b[39;49msolver,\n\u001b[0;32m   1604\u001b[0m         multi_class\u001b[39m=\u001b[39;49mmulti_class,\n\u001b[0;32m   1605\u001b[0m         max_iter\u001b[39m=\u001b[39;49m\u001b[39mself\u001b[39;49m\u001b[39m.\u001b[39;49mmax_iter,\n\u001b[0;32m   1606\u001b[0m         class_weight\u001b[39m=\u001b[39;49m\u001b[39mself\u001b[39;49m\u001b[39m.\u001b[39;49mclass_weight,\n\u001b[0;32m   1607\u001b[0m         check_input\u001b[39m=\u001b[39;49m\u001b[39mFalse\u001b[39;49;00m,\n\u001b[0;32m   1608\u001b[0m         random_state\u001b[39m=\u001b[39;49m\u001b[39mself\u001b[39;49m\u001b[39m.\u001b[39;49mrandom_state,\n\u001b[0;32m   1609\u001b[0m         coef\u001b[39m=\u001b[39;49mwarm_start_coef_,\n\u001b[0;32m   1610\u001b[0m         penalty\u001b[39m=\u001b[39;49mpenalty,\n\u001b[0;32m   1611\u001b[0m         max_squared_sum\u001b[39m=\u001b[39;49mmax_squared_sum,\n\u001b[0;32m   1612\u001b[0m         sample_weight\u001b[39m=\u001b[39;49msample_weight,\n\u001b[0;32m   1613\u001b[0m     )\n\u001b[0;32m   1614\u001b[0m     \u001b[39mfor\u001b[39;49;00m class_, warm_start_coef_ \u001b[39min\u001b[39;49;00m \u001b[39mzip\u001b[39;49m(classes_, warm_start_coef)\n\u001b[0;32m   1615\u001b[0m )\n\u001b[0;32m   1617\u001b[0m fold_coefs_, _, n_iter_ \u001b[39m=\u001b[39m \u001b[39mzip\u001b[39m(\u001b[39m*\u001b[39mfold_coefs_)\n\u001b[0;32m   1618\u001b[0m \u001b[39mself\u001b[39m\u001b[39m.\u001b[39mn_iter_ \u001b[39m=\u001b[39m np\u001b[39m.\u001b[39masarray(n_iter_, dtype\u001b[39m=\u001b[39mnp\u001b[39m.\u001b[39mint32)[:, \u001b[39m0\u001b[39m]\n",
            "File \u001b[1;32mc:\\Users\\56967\\AppData\\Local\\Programs\\Python\\Python310\\lib\\site-packages\\joblib\\parallel.py:1043\u001b[0m, in \u001b[0;36mParallel.__call__\u001b[1;34m(self, iterable)\u001b[0m\n\u001b[0;32m   1034\u001b[0m \u001b[39mtry\u001b[39;00m:\n\u001b[0;32m   1035\u001b[0m     \u001b[39m# Only set self._iterating to True if at least a batch\u001b[39;00m\n\u001b[0;32m   1036\u001b[0m     \u001b[39m# was dispatched. In particular this covers the edge\u001b[39;00m\n\u001b[1;32m   (...)\u001b[0m\n\u001b[0;32m   1040\u001b[0m     \u001b[39m# was very quick and its callback already dispatched all the\u001b[39;00m\n\u001b[0;32m   1041\u001b[0m     \u001b[39m# remaining jobs.\u001b[39;00m\n\u001b[0;32m   1042\u001b[0m     \u001b[39mself\u001b[39m\u001b[39m.\u001b[39m_iterating \u001b[39m=\u001b[39m \u001b[39mFalse\u001b[39;00m\n\u001b[1;32m-> 1043\u001b[0m     \u001b[39mif\u001b[39;00m \u001b[39mself\u001b[39;49m\u001b[39m.\u001b[39;49mdispatch_one_batch(iterator):\n\u001b[0;32m   1044\u001b[0m         \u001b[39mself\u001b[39m\u001b[39m.\u001b[39m_iterating \u001b[39m=\u001b[39m \u001b[39mself\u001b[39m\u001b[39m.\u001b[39m_original_iterator \u001b[39mis\u001b[39;00m \u001b[39mnot\u001b[39;00m \u001b[39mNone\u001b[39;00m\n\u001b[0;32m   1046\u001b[0m     \u001b[39mwhile\u001b[39;00m \u001b[39mself\u001b[39m\u001b[39m.\u001b[39mdispatch_one_batch(iterator):\n",
            "File \u001b[1;32mc:\\Users\\56967\\AppData\\Local\\Programs\\Python\\Python310\\lib\\site-packages\\joblib\\parallel.py:861\u001b[0m, in \u001b[0;36mParallel.dispatch_one_batch\u001b[1;34m(self, iterator)\u001b[0m\n\u001b[0;32m    859\u001b[0m     \u001b[39mreturn\u001b[39;00m \u001b[39mFalse\u001b[39;00m\n\u001b[0;32m    860\u001b[0m \u001b[39melse\u001b[39;00m:\n\u001b[1;32m--> 861\u001b[0m     \u001b[39mself\u001b[39;49m\u001b[39m.\u001b[39;49m_dispatch(tasks)\n\u001b[0;32m    862\u001b[0m     \u001b[39mreturn\u001b[39;00m \u001b[39mTrue\u001b[39;00m\n",
            "File \u001b[1;32mc:\\Users\\56967\\AppData\\Local\\Programs\\Python\\Python310\\lib\\site-packages\\joblib\\parallel.py:779\u001b[0m, in \u001b[0;36mParallel._dispatch\u001b[1;34m(self, batch)\u001b[0m\n\u001b[0;32m    777\u001b[0m \u001b[39mwith\u001b[39;00m \u001b[39mself\u001b[39m\u001b[39m.\u001b[39m_lock:\n\u001b[0;32m    778\u001b[0m     job_idx \u001b[39m=\u001b[39m \u001b[39mlen\u001b[39m(\u001b[39mself\u001b[39m\u001b[39m.\u001b[39m_jobs)\n\u001b[1;32m--> 779\u001b[0m     job \u001b[39m=\u001b[39m \u001b[39mself\u001b[39;49m\u001b[39m.\u001b[39;49m_backend\u001b[39m.\u001b[39;49mapply_async(batch, callback\u001b[39m=\u001b[39;49mcb)\n\u001b[0;32m    780\u001b[0m     \u001b[39m# A job can complete so quickly than its callback is\u001b[39;00m\n\u001b[0;32m    781\u001b[0m     \u001b[39m# called before we get here, causing self._jobs to\u001b[39;00m\n\u001b[0;32m    782\u001b[0m     \u001b[39m# grow. To ensure correct results ordering, .insert is\u001b[39;00m\n\u001b[0;32m    783\u001b[0m     \u001b[39m# used (rather than .append) in the following line\u001b[39;00m\n\u001b[0;32m    784\u001b[0m     \u001b[39mself\u001b[39m\u001b[39m.\u001b[39m_jobs\u001b[39m.\u001b[39minsert(job_idx, job)\n",
            "File \u001b[1;32mc:\\Users\\56967\\AppData\\Local\\Programs\\Python\\Python310\\lib\\site-packages\\joblib\\_parallel_backends.py:208\u001b[0m, in \u001b[0;36mSequentialBackend.apply_async\u001b[1;34m(self, func, callback)\u001b[0m\n\u001b[0;32m    206\u001b[0m \u001b[39mdef\u001b[39;00m \u001b[39mapply_async\u001b[39m(\u001b[39mself\u001b[39m, func, callback\u001b[39m=\u001b[39m\u001b[39mNone\u001b[39;00m):\n\u001b[0;32m    207\u001b[0m     \u001b[39m\"\"\"Schedule a func to be run\"\"\"\u001b[39;00m\n\u001b[1;32m--> 208\u001b[0m     result \u001b[39m=\u001b[39m ImmediateResult(func)\n\u001b[0;32m    209\u001b[0m     \u001b[39mif\u001b[39;00m callback:\n\u001b[0;32m    210\u001b[0m         callback(result)\n",
            "File \u001b[1;32mc:\\Users\\56967\\AppData\\Local\\Programs\\Python\\Python310\\lib\\site-packages\\joblib\\_parallel_backends.py:572\u001b[0m, in \u001b[0;36mImmediateResult.__init__\u001b[1;34m(self, batch)\u001b[0m\n\u001b[0;32m    569\u001b[0m \u001b[39mdef\u001b[39;00m \u001b[39m__init__\u001b[39m(\u001b[39mself\u001b[39m, batch):\n\u001b[0;32m    570\u001b[0m     \u001b[39m# Don't delay the application, to avoid keeping the input\u001b[39;00m\n\u001b[0;32m    571\u001b[0m     \u001b[39m# arguments in memory\u001b[39;00m\n\u001b[1;32m--> 572\u001b[0m     \u001b[39mself\u001b[39m\u001b[39m.\u001b[39mresults \u001b[39m=\u001b[39m batch()\n",
            "File \u001b[1;32mc:\\Users\\56967\\AppData\\Local\\Programs\\Python\\Python310\\lib\\site-packages\\joblib\\parallel.py:262\u001b[0m, in \u001b[0;36mBatchedCalls.__call__\u001b[1;34m(self)\u001b[0m\n\u001b[0;32m    258\u001b[0m \u001b[39mdef\u001b[39;00m \u001b[39m__call__\u001b[39m(\u001b[39mself\u001b[39m):\n\u001b[0;32m    259\u001b[0m     \u001b[39m# Set the default nested backend to self._backend but do not set the\u001b[39;00m\n\u001b[0;32m    260\u001b[0m     \u001b[39m# change the default number of processes to -1\u001b[39;00m\n\u001b[0;32m    261\u001b[0m     \u001b[39mwith\u001b[39;00m parallel_backend(\u001b[39mself\u001b[39m\u001b[39m.\u001b[39m_backend, n_jobs\u001b[39m=\u001b[39m\u001b[39mself\u001b[39m\u001b[39m.\u001b[39m_n_jobs):\n\u001b[1;32m--> 262\u001b[0m         \u001b[39mreturn\u001b[39;00m [func(\u001b[39m*\u001b[39margs, \u001b[39m*\u001b[39m\u001b[39m*\u001b[39mkwargs)\n\u001b[0;32m    263\u001b[0m                 \u001b[39mfor\u001b[39;00m func, args, kwargs \u001b[39min\u001b[39;00m \u001b[39mself\u001b[39m\u001b[39m.\u001b[39mitems]\n",
            "File \u001b[1;32mc:\\Users\\56967\\AppData\\Local\\Programs\\Python\\Python310\\lib\\site-packages\\joblib\\parallel.py:262\u001b[0m, in \u001b[0;36m<listcomp>\u001b[1;34m(.0)\u001b[0m\n\u001b[0;32m    258\u001b[0m \u001b[39mdef\u001b[39;00m \u001b[39m__call__\u001b[39m(\u001b[39mself\u001b[39m):\n\u001b[0;32m    259\u001b[0m     \u001b[39m# Set the default nested backend to self._backend but do not set the\u001b[39;00m\n\u001b[0;32m    260\u001b[0m     \u001b[39m# change the default number of processes to -1\u001b[39;00m\n\u001b[0;32m    261\u001b[0m     \u001b[39mwith\u001b[39;00m parallel_backend(\u001b[39mself\u001b[39m\u001b[39m.\u001b[39m_backend, n_jobs\u001b[39m=\u001b[39m\u001b[39mself\u001b[39m\u001b[39m.\u001b[39m_n_jobs):\n\u001b[1;32m--> 262\u001b[0m         \u001b[39mreturn\u001b[39;00m [func(\u001b[39m*\u001b[39margs, \u001b[39m*\u001b[39m\u001b[39m*\u001b[39mkwargs)\n\u001b[0;32m    263\u001b[0m                 \u001b[39mfor\u001b[39;00m func, args, kwargs \u001b[39min\u001b[39;00m \u001b[39mself\u001b[39m\u001b[39m.\u001b[39mitems]\n",
            "File \u001b[1;32mc:\\Users\\56967\\AppData\\Local\\Programs\\Python\\Python310\\lib\\site-packages\\sklearn\\utils\\fixes.py:216\u001b[0m, in \u001b[0;36m_FuncWrapper.__call__\u001b[1;34m(self, *args, **kwargs)\u001b[0m\n\u001b[0;32m    214\u001b[0m \u001b[39mdef\u001b[39;00m \u001b[39m__call__\u001b[39m(\u001b[39mself\u001b[39m, \u001b[39m*\u001b[39margs, \u001b[39m*\u001b[39m\u001b[39m*\u001b[39mkwargs):\n\u001b[0;32m    215\u001b[0m     \u001b[39mwith\u001b[39;00m config_context(\u001b[39m*\u001b[39m\u001b[39m*\u001b[39m\u001b[39mself\u001b[39m\u001b[39m.\u001b[39mconfig):\n\u001b[1;32m--> 216\u001b[0m         \u001b[39mreturn\u001b[39;00m \u001b[39mself\u001b[39m\u001b[39m.\u001b[39mfunction(\u001b[39m*\u001b[39margs, \u001b[39m*\u001b[39m\u001b[39m*\u001b[39mkwargs)\n",
            "File \u001b[1;32mc:\\Users\\56967\\AppData\\Local\\Programs\\Python\\Python310\\lib\\site-packages\\sklearn\\linear_model\\_logistic.py:806\u001b[0m, in \u001b[0;36m_logistic_regression_path\u001b[1;34m(X, y, pos_class, Cs, fit_intercept, max_iter, tol, verbose, solver, coef, class_weight, dual, penalty, intercept_scaling, multi_class, random_state, check_input, max_squared_sum, sample_weight, l1_ratio)\u001b[0m\n\u001b[0;32m    802\u001b[0m \u001b[39mif\u001b[39;00m solver \u001b[39m==\u001b[39m \u001b[39m\"\u001b[39m\u001b[39mlbfgs\u001b[39m\u001b[39m\"\u001b[39m:\n\u001b[0;32m    803\u001b[0m     iprint \u001b[39m=\u001b[39m [\u001b[39m-\u001b[39m\u001b[39m1\u001b[39m, \u001b[39m50\u001b[39m, \u001b[39m1\u001b[39m, \u001b[39m100\u001b[39m, \u001b[39m101\u001b[39m][\n\u001b[0;32m    804\u001b[0m         np\u001b[39m.\u001b[39msearchsorted(np\u001b[39m.\u001b[39marray([\u001b[39m0\u001b[39m, \u001b[39m1\u001b[39m, \u001b[39m2\u001b[39m, \u001b[39m3\u001b[39m]), verbose)\n\u001b[0;32m    805\u001b[0m     ]\n\u001b[1;32m--> 806\u001b[0m     opt_res \u001b[39m=\u001b[39m optimize\u001b[39m.\u001b[39;49mminimize(\n\u001b[0;32m    807\u001b[0m         func,\n\u001b[0;32m    808\u001b[0m         w0,\n\u001b[0;32m    809\u001b[0m         method\u001b[39m=\u001b[39;49m\u001b[39m\"\u001b[39;49m\u001b[39mL-BFGS-B\u001b[39;49m\u001b[39m\"\u001b[39;49m,\n\u001b[0;32m    810\u001b[0m         jac\u001b[39m=\u001b[39;49m\u001b[39mTrue\u001b[39;49;00m,\n\u001b[0;32m    811\u001b[0m         args\u001b[39m=\u001b[39;49m(X, target, \u001b[39m1.0\u001b[39;49m \u001b[39m/\u001b[39;49m C, sample_weight),\n\u001b[0;32m    812\u001b[0m         options\u001b[39m=\u001b[39;49m{\u001b[39m\"\u001b[39;49m\u001b[39miprint\u001b[39;49m\u001b[39m\"\u001b[39;49m: iprint, \u001b[39m\"\u001b[39;49m\u001b[39mgtol\u001b[39;49m\u001b[39m\"\u001b[39;49m: tol, \u001b[39m\"\u001b[39;49m\u001b[39mmaxiter\u001b[39;49m\u001b[39m\"\u001b[39;49m: max_iter},\n\u001b[0;32m    813\u001b[0m     )\n\u001b[0;32m    814\u001b[0m     n_iter_i \u001b[39m=\u001b[39m _check_optimize_result(\n\u001b[0;32m    815\u001b[0m         solver,\n\u001b[0;32m    816\u001b[0m         opt_res,\n\u001b[0;32m    817\u001b[0m         max_iter,\n\u001b[0;32m    818\u001b[0m         extra_warning_msg\u001b[39m=\u001b[39m_LOGISTIC_SOLVER_CONVERGENCE_MSG,\n\u001b[0;32m    819\u001b[0m     )\n\u001b[0;32m    820\u001b[0m     w0, loss \u001b[39m=\u001b[39m opt_res\u001b[39m.\u001b[39mx, opt_res\u001b[39m.\u001b[39mfun\n",
            "File \u001b[1;32mc:\\Users\\56967\\AppData\\Local\\Programs\\Python\\Python310\\lib\\site-packages\\scipy\\optimize\\_minimize.py:681\u001b[0m, in \u001b[0;36mminimize\u001b[1;34m(fun, x0, args, method, jac, hess, hessp, bounds, constraints, tol, callback, options)\u001b[0m\n\u001b[0;32m    678\u001b[0m     res \u001b[39m=\u001b[39m _minimize_newtoncg(fun, x0, args, jac, hess, hessp, callback,\n\u001b[0;32m    679\u001b[0m                              \u001b[39m*\u001b[39m\u001b[39m*\u001b[39moptions)\n\u001b[0;32m    680\u001b[0m \u001b[39melif\u001b[39;00m meth \u001b[39m==\u001b[39m \u001b[39m'\u001b[39m\u001b[39ml-bfgs-b\u001b[39m\u001b[39m'\u001b[39m:\n\u001b[1;32m--> 681\u001b[0m     res \u001b[39m=\u001b[39m _minimize_lbfgsb(fun, x0, args, jac, bounds,\n\u001b[0;32m    682\u001b[0m                            callback\u001b[39m=\u001b[39mcallback, \u001b[39m*\u001b[39m\u001b[39m*\u001b[39moptions)\n\u001b[0;32m    683\u001b[0m \u001b[39melif\u001b[39;00m meth \u001b[39m==\u001b[39m \u001b[39m'\u001b[39m\u001b[39mtnc\u001b[39m\u001b[39m'\u001b[39m:\n\u001b[0;32m    684\u001b[0m     res \u001b[39m=\u001b[39m _minimize_tnc(fun, x0, args, jac, bounds, callback\u001b[39m=\u001b[39mcallback,\n\u001b[0;32m    685\u001b[0m                         \u001b[39m*\u001b[39m\u001b[39m*\u001b[39moptions)\n",
            "File \u001b[1;32mc:\\Users\\56967\\AppData\\Local\\Programs\\Python\\Python310\\lib\\site-packages\\scipy\\optimize\\_lbfgsb_py.py:362\u001b[0m, in \u001b[0;36m_minimize_lbfgsb\u001b[1;34m(fun, x0, args, jac, bounds, disp, maxcor, ftol, gtol, eps, maxfun, maxiter, iprint, callback, maxls, finite_diff_rel_step, **unknown_options)\u001b[0m\n\u001b[0;32m    356\u001b[0m task_str \u001b[39m=\u001b[39m task\u001b[39m.\u001b[39mtobytes()\n\u001b[0;32m    357\u001b[0m \u001b[39mif\u001b[39;00m task_str\u001b[39m.\u001b[39mstartswith(\u001b[39mb\u001b[39m\u001b[39m'\u001b[39m\u001b[39mFG\u001b[39m\u001b[39m'\u001b[39m):\n\u001b[0;32m    358\u001b[0m     \u001b[39m# The minimization routine wants f and g at the current x.\u001b[39;00m\n\u001b[0;32m    359\u001b[0m     \u001b[39m# Note that interruptions due to maxfun are postponed\u001b[39;00m\n\u001b[0;32m    360\u001b[0m     \u001b[39m# until the completion of the current minimization iteration.\u001b[39;00m\n\u001b[0;32m    361\u001b[0m     \u001b[39m# Overwrite f and g:\u001b[39;00m\n\u001b[1;32m--> 362\u001b[0m     f, g \u001b[39m=\u001b[39m func_and_grad(x)\n\u001b[0;32m    363\u001b[0m \u001b[39melif\u001b[39;00m task_str\u001b[39m.\u001b[39mstartswith(\u001b[39mb\u001b[39m\u001b[39m'\u001b[39m\u001b[39mNEW_X\u001b[39m\u001b[39m'\u001b[39m):\n\u001b[0;32m    364\u001b[0m     \u001b[39m# new iteration\u001b[39;00m\n\u001b[0;32m    365\u001b[0m     n_iterations \u001b[39m+\u001b[39m\u001b[39m=\u001b[39m \u001b[39m1\u001b[39m\n",
            "File \u001b[1;32mc:\\Users\\56967\\AppData\\Local\\Programs\\Python\\Python310\\lib\\site-packages\\scipy\\optimize\\_differentiable_functions.py:285\u001b[0m, in \u001b[0;36mScalarFunction.fun_and_grad\u001b[1;34m(self, x)\u001b[0m\n\u001b[0;32m    283\u001b[0m \u001b[39mif\u001b[39;00m \u001b[39mnot\u001b[39;00m np\u001b[39m.\u001b[39marray_equal(x, \u001b[39mself\u001b[39m\u001b[39m.\u001b[39mx):\n\u001b[0;32m    284\u001b[0m     \u001b[39mself\u001b[39m\u001b[39m.\u001b[39m_update_x_impl(x)\n\u001b[1;32m--> 285\u001b[0m \u001b[39mself\u001b[39;49m\u001b[39m.\u001b[39;49m_update_fun()\n\u001b[0;32m    286\u001b[0m \u001b[39mself\u001b[39m\u001b[39m.\u001b[39m_update_grad()\n\u001b[0;32m    287\u001b[0m \u001b[39mreturn\u001b[39;00m \u001b[39mself\u001b[39m\u001b[39m.\u001b[39mf, \u001b[39mself\u001b[39m\u001b[39m.\u001b[39mg\n",
            "File \u001b[1;32mc:\\Users\\56967\\AppData\\Local\\Programs\\Python\\Python310\\lib\\site-packages\\scipy\\optimize\\_differentiable_functions.py:251\u001b[0m, in \u001b[0;36mScalarFunction._update_fun\u001b[1;34m(self)\u001b[0m\n\u001b[0;32m    249\u001b[0m \u001b[39mdef\u001b[39;00m \u001b[39m_update_fun\u001b[39m(\u001b[39mself\u001b[39m):\n\u001b[0;32m    250\u001b[0m     \u001b[39mif\u001b[39;00m \u001b[39mnot\u001b[39;00m \u001b[39mself\u001b[39m\u001b[39m.\u001b[39mf_updated:\n\u001b[1;32m--> 251\u001b[0m         \u001b[39mself\u001b[39;49m\u001b[39m.\u001b[39;49m_update_fun_impl()\n\u001b[0;32m    252\u001b[0m         \u001b[39mself\u001b[39m\u001b[39m.\u001b[39mf_updated \u001b[39m=\u001b[39m \u001b[39mTrue\u001b[39;00m\n",
            "File \u001b[1;32mc:\\Users\\56967\\AppData\\Local\\Programs\\Python\\Python310\\lib\\site-packages\\scipy\\optimize\\_differentiable_functions.py:155\u001b[0m, in \u001b[0;36mScalarFunction.__init__.<locals>.update_fun\u001b[1;34m()\u001b[0m\n\u001b[0;32m    154\u001b[0m \u001b[39mdef\u001b[39;00m \u001b[39mupdate_fun\u001b[39m():\n\u001b[1;32m--> 155\u001b[0m     \u001b[39mself\u001b[39m\u001b[39m.\u001b[39mf \u001b[39m=\u001b[39m fun_wrapped(\u001b[39mself\u001b[39;49m\u001b[39m.\u001b[39;49mx)\n",
            "File \u001b[1;32mc:\\Users\\56967\\AppData\\Local\\Programs\\Python\\Python310\\lib\\site-packages\\scipy\\optimize\\_differentiable_functions.py:137\u001b[0m, in \u001b[0;36mScalarFunction.__init__.<locals>.fun_wrapped\u001b[1;34m(x)\u001b[0m\n\u001b[0;32m    133\u001b[0m \u001b[39mself\u001b[39m\u001b[39m.\u001b[39mnfev \u001b[39m+\u001b[39m\u001b[39m=\u001b[39m \u001b[39m1\u001b[39m\n\u001b[0;32m    134\u001b[0m \u001b[39m# Send a copy because the user may overwrite it.\u001b[39;00m\n\u001b[0;32m    135\u001b[0m \u001b[39m# Overwriting results in undefined behaviour because\u001b[39;00m\n\u001b[0;32m    136\u001b[0m \u001b[39m# fun(self.x) will change self.x, with the two no longer linked.\u001b[39;00m\n\u001b[1;32m--> 137\u001b[0m fx \u001b[39m=\u001b[39m fun(np\u001b[39m.\u001b[39;49mcopy(x), \u001b[39m*\u001b[39;49margs)\n\u001b[0;32m    138\u001b[0m \u001b[39m# Make sure the function returns a true scalar\u001b[39;00m\n\u001b[0;32m    139\u001b[0m \u001b[39mif\u001b[39;00m \u001b[39mnot\u001b[39;00m np\u001b[39m.\u001b[39misscalar(fx):\n",
            "File \u001b[1;32mc:\\Users\\56967\\AppData\\Local\\Programs\\Python\\Python310\\lib\\site-packages\\scipy\\optimize\\_optimize.py:76\u001b[0m, in \u001b[0;36mMemoizeJac.__call__\u001b[1;34m(self, x, *args)\u001b[0m\n\u001b[0;32m     74\u001b[0m \u001b[39mdef\u001b[39;00m \u001b[39m__call__\u001b[39m(\u001b[39mself\u001b[39m, x, \u001b[39m*\u001b[39margs):\n\u001b[0;32m     75\u001b[0m     \u001b[39m\"\"\" returns the the function value \"\"\"\u001b[39;00m\n\u001b[1;32m---> 76\u001b[0m     \u001b[39mself\u001b[39;49m\u001b[39m.\u001b[39;49m_compute_if_needed(x, \u001b[39m*\u001b[39;49margs)\n\u001b[0;32m     77\u001b[0m     \u001b[39mreturn\u001b[39;00m \u001b[39mself\u001b[39m\u001b[39m.\u001b[39m_value\n",
            "File \u001b[1;32mc:\\Users\\56967\\AppData\\Local\\Programs\\Python\\Python310\\lib\\site-packages\\scipy\\optimize\\_optimize.py:70\u001b[0m, in \u001b[0;36mMemoizeJac._compute_if_needed\u001b[1;34m(self, x, *args)\u001b[0m\n\u001b[0;32m     68\u001b[0m \u001b[39mif\u001b[39;00m \u001b[39mnot\u001b[39;00m np\u001b[39m.\u001b[39mall(x \u001b[39m==\u001b[39m \u001b[39mself\u001b[39m\u001b[39m.\u001b[39mx) \u001b[39mor\u001b[39;00m \u001b[39mself\u001b[39m\u001b[39m.\u001b[39m_value \u001b[39mis\u001b[39;00m \u001b[39mNone\u001b[39;00m \u001b[39mor\u001b[39;00m \u001b[39mself\u001b[39m\u001b[39m.\u001b[39mjac \u001b[39mis\u001b[39;00m \u001b[39mNone\u001b[39;00m:\n\u001b[0;32m     69\u001b[0m     \u001b[39mself\u001b[39m\u001b[39m.\u001b[39mx \u001b[39m=\u001b[39m np\u001b[39m.\u001b[39masarray(x)\u001b[39m.\u001b[39mcopy()\n\u001b[1;32m---> 70\u001b[0m     fg \u001b[39m=\u001b[39m \u001b[39mself\u001b[39;49m\u001b[39m.\u001b[39;49mfun(x, \u001b[39m*\u001b[39;49margs)\n\u001b[0;32m     71\u001b[0m     \u001b[39mself\u001b[39m\u001b[39m.\u001b[39mjac \u001b[39m=\u001b[39m fg[\u001b[39m1\u001b[39m]\n\u001b[0;32m     72\u001b[0m     \u001b[39mself\u001b[39m\u001b[39m.\u001b[39m_value \u001b[39m=\u001b[39m fg[\u001b[39m0\u001b[39m]\n",
            "File \u001b[1;32mc:\\Users\\56967\\AppData\\Local\\Programs\\Python\\Python310\\lib\\site-packages\\sklearn\\linear_model\\_logistic.py:122\u001b[0m, in \u001b[0;36m_logistic_loss_and_grad\u001b[1;34m(w, X, y, alpha, sample_weight)\u001b[0m\n\u001b[0;32m    119\u001b[0m     sample_weight \u001b[39m=\u001b[39m np\u001b[39m.\u001b[39mones(n_samples)\n\u001b[0;32m    121\u001b[0m \u001b[39m# Logistic loss is the negative of the log of the logistic function.\u001b[39;00m\n\u001b[1;32m--> 122\u001b[0m out \u001b[39m=\u001b[39m \u001b[39m-\u001b[39mnp\u001b[39m.\u001b[39msum(sample_weight \u001b[39m*\u001b[39m log_logistic(yz)) \u001b[39m+\u001b[39m \u001b[39m0.5\u001b[39m \u001b[39m*\u001b[39m alpha \u001b[39m*\u001b[39m np\u001b[39m.\u001b[39mdot(w, w)\n\u001b[0;32m    124\u001b[0m z \u001b[39m=\u001b[39m expit(yz)\n\u001b[0;32m    125\u001b[0m z0 \u001b[39m=\u001b[39m sample_weight \u001b[39m*\u001b[39m (z \u001b[39m-\u001b[39m \u001b[39m1\u001b[39m) \u001b[39m*\u001b[39m y\n",
            "File \u001b[1;32mc:\\Users\\56967\\AppData\\Local\\Programs\\Python\\Python310\\lib\\site-packages\\sklearn\\utils\\extmath.py:795\u001b[0m, in \u001b[0;36mlog_logistic\u001b[1;34m(X, out)\u001b[0m\n\u001b[0;32m    792\u001b[0m _log_logistic_sigmoid(n_samples, n_features, X, out)\n\u001b[0;32m    794\u001b[0m \u001b[39mif\u001b[39;00m is_1d:\n\u001b[1;32m--> 795\u001b[0m     \u001b[39mreturn\u001b[39;00m np\u001b[39m.\u001b[39;49msqueeze(out)\n\u001b[0;32m    796\u001b[0m \u001b[39mreturn\u001b[39;00m out\n",
            "File \u001b[1;32m<__array_function__ internals>:177\u001b[0m, in \u001b[0;36msqueeze\u001b[1;34m(*args, **kwargs)\u001b[0m\n",
            "File \u001b[1;32m_pydevd_bundle/pydevd_cython.pyx:1363\u001b[0m, in \u001b[0;36m_pydevd_bundle.pydevd_cython.SafeCallWrapper.__call__\u001b[1;34m()\u001b[0m\n",
            "File \u001b[1;32m_pydevd_bundle/pydevd_cython.pyx:1664\u001b[0m, in \u001b[0;36m_pydevd_bundle.pydevd_cython.ThreadTracer.__call__\u001b[1;34m()\u001b[0m\n",
            "File \u001b[1;32m~\\AppData\\Roaming\\Python\\Python310\\site-packages\\debugpy\\_vendored\\pydevd\\_pydev_bundle\\pydev_is_thread_alive.py:9\u001b[0m, in \u001b[0;36mis_thread_alive\u001b[1;34m(t)\u001b[0m\n\u001b[0;32m      6\u001b[0m _temp \u001b[39m=\u001b[39m threading\u001b[39m.\u001b[39mThread()\n\u001b[0;32m      7\u001b[0m \u001b[39mif\u001b[39;00m \u001b[39mhasattr\u001b[39m(_temp, \u001b[39m'\u001b[39m\u001b[39m_is_stopped\u001b[39m\u001b[39m'\u001b[39m):  \u001b[39m# Python 3.x has this\u001b[39;00m\n\u001b[1;32m----> 9\u001b[0m     \u001b[39mdef\u001b[39;00m \u001b[39mis_thread_alive\u001b[39m(t):\n\u001b[0;32m     10\u001b[0m         \u001b[39mreturn\u001b[39;00m \u001b[39mnot\u001b[39;00m t\u001b[39m.\u001b[39m_is_stopped\n\u001b[0;32m     12\u001b[0m \u001b[39melif\u001b[39;00m \u001b[39mhasattr\u001b[39m(_temp, \u001b[39m'\u001b[39m\u001b[39m_Thread__stopped\u001b[39m\u001b[39m'\u001b[39m):  \u001b[39m# Python 2.x has this\u001b[39;00m\n",
            "\u001b[1;31mKeyboardInterrupt\u001b[0m: "
          ]
        }
      ],
      "source": [
        "# Load libraries\n",
        "from scipy.stats import uniform\n",
        "from sklearn import linear_model, datasets\n",
        "from sklearn.model_selection import GridSearchCV\n",
        "\n",
        "\n",
        "logistic = linear_model.LogisticRegression()\n",
        "\n",
        "# define search space\n",
        "space = dict()\n",
        "\n",
        "space['penalty'] = ['none', 'l1', 'l2', 'elasticnet']\n",
        "space['C'] = [1e-5, 1e-4, 1e-3, 1e-2, 1e-1, 1, 10, 100]\n",
        "\n",
        "\n",
        "search = GridSearchCV(logistic, space, scoring='f1', cv=10)\n",
        "# execute search\n",
        "result = search.fit(np.array(X), np.ravel(Y))\n",
        "# summarize result\n",
        "print('Best Score: %s' % result.best_score_)\n",
        "print('Best Hyperparameters: %s' % result.best_params_)\n"
      ]
    },
    {
      "cell_type": "code",
      "execution_count": null,
      "id": "fe1964f6",
      "metadata": {},
      "outputs": [],
      "source": [
        "\"\"\"Best Score: 0.7918912037167016\n",
        "Best Hyperparameters: {'C': 1e-05, 'penalty': 'l2'}\"\"\""
      ]
    },
    {
      "cell_type": "markdown",
      "id": "0fa9283c",
      "metadata": {},
      "source": [
        "Todas combinaciones de variables."
      ]
    },
    {
      "cell_type": "code",
      "execution_count": null,
      "id": "5232f8cf",
      "metadata": {},
      "outputs": [],
      "source": [
        "from itertools import compress, product\n",
        "\n",
        "def combinations(items):\n",
        "    return (list(compress(items,mask)) for mask in product(*[[0,1]]*len(items)) )\n",
        "    # alternative:\n",
        "\n",
        "comb = list(combinations(list(X)))[1:]\n",
        "for combination in comb:\n",
        "  print(combination)"
      ]
    },
    {
      "cell_type": "markdown",
      "id": "75c0eb73",
      "metadata": {},
      "source": []
    },
    {
      "cell_type": "code",
      "execution_count": null,
      "id": "0bf07ea7",
      "metadata": {},
      "outputs": [],
      "source": [
        "from sklearn.linear_model import LogisticRegression\n",
        "from sklearn.model_selection import KFold\n",
        "from sklearn import metrics as mt\n",
        "\n",
        "for i in range(len(comb)):\n",
        "\n",
        "  print(f\"Si consideramos las variables: {list(comb[i])}\")\n",
        "\n",
        "  numFolds=10\n",
        "\n",
        "  kf = KFold(n_splits=numFolds,shuffle=True)\n",
        "  LG = LogisticRegression(solver='liblinear',penalty=\"l2\",\n",
        "                          C=100)\n",
        "  #Generando los k-fold\n",
        "  temp=kf.split(X[list(comb[i])])\n",
        "\n",
        "  errorTrain = np.zeros(10)\n",
        "  errorTest = np.zeros(10)\n",
        "\n",
        "  index=0\n",
        "  for train_index, test_index in temp:\n",
        "      \n",
        "      trainData = np.array(X[list(comb[i])])[train_index, :]\n",
        "      testData = np.array(X[list(comb[i])])[test_index, :]\n",
        "      \n",
        "      trainTarget = np.ravel(Y)[train_index]\n",
        "      testTarget = np.ravel(Y)[test_index]\n",
        "      \n",
        "      LG = LG.fit(trainData,trainTarget)\n",
        "      prediccion= LG.predict(trainData)\n",
        "      errorTrain[index]=mt.f1_score(trainTarget, prediccion)\n",
        "      \n",
        "      prediccion = LG.predict(testData)\n",
        "      errorTest[index]=mt.f1_score(testTarget, prediccion)\n",
        "      index+=1\n",
        "      \n",
        "  print(\"F1-score modelo para training: \", errorTrain.mean(), \"+-\", errorTrain.std())\n",
        "  print(\"F1-score modelo para test: \", errorTest.mean(), \"+-\", errorTest.std())"
      ]
    },
    {
      "cell_type": "markdown",
      "id": "d08638d6",
      "metadata": {},
      "source": [
        "El mejor desempeño lo tienen  las variables: ['Unnamed: 0', 'distance', 'denied_boarding', 'group_bookings', 'capacity', 'revenues_usd']\n",
        "\n",
        "\n",
        "\n",
        "F1-score modelo para training:  0.7918933076191702 +- 0.0001060916043059211\n",
        "\n",
        "\n",
        "F1-score modelo para test:  0.7918950747608815 +- 0.0009472472385575736\n",
        "\n",
        "\n",
        "\n",
        "Aunque es llamativo que todas las variables tienen  desempeños similares entre sí"
      ]
    },
    {
      "cell_type": "code",
      "execution_count": 33,
      "id": "7f57dec2",
      "metadata": {},
      "outputs": [],
      "source": [
        "new_X = X[['Unnamed: 0', 'distance', 'denied_boarding', 'group_bookings', 'capacity', 'revenues_usd']]"
      ]
    },
    {
      "cell_type": "markdown",
      "id": "714bd77d",
      "metadata": {},
      "source": [
        "Entrenaremos utilizando k-fold considerando esta última selección"
      ]
    },
    {
      "cell_type": "code",
      "execution_count": null,
      "id": "7dfa8aaa",
      "metadata": {},
      "outputs": [],
      "source": [
        "from sklearn.linear_model import LogisticRegression\n",
        "from sklearn.model_selection import KFold\n",
        "from sklearn import metrics as mt\n",
        "\n",
        "numFolds=10\n",
        "kf = KFold(n_splits=numFolds,shuffle=True)\n",
        "LG = LogisticRegression(solver='liblinear',penalty=\"l2\",\n",
        "                          C=1e-05)\n",
        "#Generando los k-fold\n",
        "temp=kf.split(new_X)\n",
        "errorTrain = np.zeros(10)\n",
        "errorTest = np.zeros(10)\n",
        "\n",
        "index=0\n",
        "for train_index, test_index in temp:\n",
        "      \n",
        "  trainData = np.array(new_X)[train_index, :]\n",
        "  testData = np.array(new_X)[test_index, :]\n",
        "      \n",
        "  trainTarget = np.ravel(Y)[train_index]\n",
        "  testTarget = np.ravel(Y)[test_index]\n",
        "      \n",
        "  LG = LG.fit(trainData,trainTarget)\n",
        "  prediccion= LG.predict(trainData)\n",
        "  errorTrain[index]=mt.f1_score(trainTarget, prediccion)\n",
        "      \n",
        "  prediccion = LG.predict(testData)\n",
        "  errorTest[index]=mt.f1_score(testTarget, prediccion)\n",
        "  index+=1\n",
        "  print(\"iteracion: \",index+1)\n",
        "      \n",
        "print(\"F1-score modelo para training: \", errorTrain.mean(), \"+-\", errorTrain.std())\n",
        "print(\"F1-score modelo para test: \", errorTest.mean(), \"+-\", errorTest.std())"
      ]
    },
    {
      "cell_type": "markdown",
      "id": "4ba9ed52",
      "metadata": {},
      "source": [
        "Resultado:\n",
        "F1-score modelo para training:  0.7918952844676872 +- 0.00010320078978626482\n",
        "F1-score modelo para test:  0.7918897513842513 +- 0.000956487113252166"
      ]
    },
    {
      "cell_type": "markdown",
      "id": "Vq3bw_8iVJ2b",
      "metadata": {
        "id": "Vq3bw_8iVJ2b"
      },
      "source": [
        "-Sebastián Velásquez"
      ]
    },
    {
      "cell_type": "code",
      "execution_count": 110,
      "id": "f63ba528",
      "metadata": {},
      "outputs": [
        {
          "data": {
            "text/plain": [
              "0         1\n",
              "1         0\n",
              "2         1\n",
              "3         1\n",
              "4         1\n",
              "         ..\n",
              "999885    1\n",
              "999886    1\n",
              "999887    1\n",
              "999888    0\n",
              "999889    1\n",
              "Name: noshow, Length: 998472, dtype: int64"
            ]
          },
          "execution_count": 110,
          "metadata": {},
          "output_type": "execute_result"
        }
      ],
      "source": [
        "y = df_trainData['noshow'].apply(lambda x: 1 if x>=4.0 else 0) #Source: https://www.geeksforgeeks.org/using-apply-in-pandas-lambda-functions-with-multiple-if-statements/\n",
        "y"
      ]
    },
    {
      "cell_type": "code",
      "execution_count": 92,
      "id": "d7bf770a",
      "metadata": {},
      "outputs": [
        {
          "name": "stdout",
          "output_type": "stream",
          "text": [
            "Cantidad de no show mayor a 4: 655277\n",
            "Cantidad de no show menor a 4: 344613\n"
          ]
        }
      ],
      "source": [
        "#Proporción de las variables target\n",
        "\n",
        "print(f'Cantidad de no show mayor a 4: {y[y == 1].count()}')\n",
        "print(f'Cantidad de no show menor a 4: {y[y != 1].count()}') "
      ]
    },
    {
      "cell_type": "markdown",
      "id": "bd651f35",
      "metadata": {},
      "source": [
        "Notamos que no es tan significativo, ya que la cantidad de noshow mayor que 4 asientos es mayor por al redededor de 50% mas que no show menor a 4, por ende no consideraremos necesario balancear estos datos."
      ]
    },
    {
      "cell_type": "code",
      "execution_count": 93,
      "id": "76aed22e",
      "metadata": {},
      "outputs": [
        {
          "data": {
            "text/plain": [
              "0          9.0\n",
              "1          0.0\n",
              "2          4.0\n",
              "3         13.0\n",
              "4         14.0\n",
              "          ... \n",
              "999885     5.0\n",
              "999886     4.0\n",
              "999887     5.0\n",
              "999888     2.0\n",
              "999889    10.0\n",
              "Name: noshow, Length: 999890, dtype: float64"
            ]
          },
          "execution_count": 93,
          "metadata": {},
          "output_type": "execute_result"
        }
      ],
      "source": [
        "df_trainData['noshow']"
      ]
    },
    {
      "cell_type": "code",
      "execution_count": 111,
      "id": "bd7d99c3",
      "metadata": {},
      "outputs": [],
      "source": [
        "y = df_trainData['noshow'].apply(lambda x: 1 if x>=4.0 else 0) #Source: https://www.geeksforgeeks.org/using-apply-in-pandas-lambda-functions-with-multiple-if-statements/"
      ]
    },
    {
      "cell_type": "code",
      "execution_count": 95,
      "id": "6647b835",
      "metadata": {},
      "outputs": [
        {
          "data": {
            "text/html": [
              "<div>\n",
              "<style scoped>\n",
              "    .dataframe tbody tr th:only-of-type {\n",
              "        vertical-align: middle;\n",
              "    }\n",
              "\n",
              "    .dataframe tbody tr th {\n",
              "        vertical-align: top;\n",
              "    }\n",
              "\n",
              "    .dataframe thead th {\n",
              "        text-align: right;\n",
              "    }\n",
              "</style>\n",
              "<table border=\"1\" class=\"dataframe\">\n",
              "  <thead>\n",
              "    <tr style=\"text-align: right;\">\n",
              "      <th></th>\n",
              "      <th>Unnamed: 0</th>\n",
              "      <th>date</th>\n",
              "      <th>fligth_number</th>\n",
              "      <th>origin</th>\n",
              "      <th>destination</th>\n",
              "      <th>distance</th>\n",
              "      <th>noshow</th>\n",
              "      <th>denied_boarding</th>\n",
              "      <th>pax_midlow</th>\n",
              "      <th>pax_high</th>\n",
              "      <th>...</th>\n",
              "      <th>pax_freqflyer</th>\n",
              "      <th>group_bookings</th>\n",
              "      <th>out_of_stock</th>\n",
              "      <th>dom_cnx</th>\n",
              "      <th>int_cnx</th>\n",
              "      <th>p2p</th>\n",
              "      <th>departure_time</th>\n",
              "      <th>capacity</th>\n",
              "      <th>revenues_usd</th>\n",
              "      <th>bookings</th>\n",
              "    </tr>\n",
              "  </thead>\n",
              "  <tbody>\n",
              "    <tr>\n",
              "      <th>0</th>\n",
              "      <td>389083</td>\n",
              "      <td>2009-11-09</td>\n",
              "      <td>8995</td>\n",
              "      <td>BBA</td>\n",
              "      <td>SCL</td>\n",
              "      <td>1394</td>\n",
              "      <td>9.0</td>\n",
              "      <td>0</td>\n",
              "      <td>94</td>\n",
              "      <td>2</td>\n",
              "      <td>...</td>\n",
              "      <td>22</td>\n",
              "      <td>19</td>\n",
              "      <td>0</td>\n",
              "      <td>1</td>\n",
              "      <td>0</td>\n",
              "      <td>239</td>\n",
              "      <td>10:30:00</td>\n",
              "      <td>174.0</td>\n",
              "      <td>10631.1</td>\n",
              "      <td>240</td>\n",
              "    </tr>\n",
              "  </tbody>\n",
              "</table>\n",
              "<p>1 rows × 22 columns</p>\n",
              "</div>"
            ],
            "text/plain": [
              "   Unnamed: 0        date  fligth_number origin destination  distance  noshow  \\\n",
              "0      389083  2009-11-09           8995    BBA         SCL      1394     9.0   \n",
              "\n",
              "   denied_boarding  pax_midlow  pax_high  ...  pax_freqflyer  group_bookings  \\\n",
              "0                0          94         2  ...             22              19   \n",
              "\n",
              "   out_of_stock  dom_cnx  int_cnx  p2p  departure_time  capacity revenues_usd  \\\n",
              "0             0        1        0  239        10:30:00     174.0      10631.1   \n",
              "\n",
              "   bookings  \n",
              "0       240  \n",
              "\n",
              "[1 rows x 22 columns]"
            ]
          },
          "execution_count": 95,
          "metadata": {},
          "output_type": "execute_result"
        }
      ],
      "source": [
        "df_trainData.head(1)"
      ]
    },
    {
      "cell_type": "code",
      "execution_count": 112,
      "id": "e6e79d48",
      "metadata": {},
      "outputs": [
        {
          "name": "stdout",
          "output_type": "stream",
          "text": [
            "There are 18 numerical variables\n",
            "\n",
            "The numerical variables are : ['Unnamed: 0', 'fligth_number', 'distance', 'noshow', 'denied_boarding', 'pax_midlow', 'pax_high', 'pax_midhigh', 'pax_low', 'pax_freqflyer', 'group_bookings', 'out_of_stock', 'dom_cnx', 'int_cnx', 'p2p', 'capacity', 'revenues_usd', 'bookings']\n"
          ]
        }
      ],
      "source": [
        "# find numerical variables\n",
        "\n",
        "numerical = [var for var in df_trainData.columns if df_trainData[var].dtype!='O']\n",
        "\n",
        "print('There are {} numerical variables\\n'.format(len(numerical)))\n",
        "\n",
        "print('The numerical variables are :', numerical)"
      ]
    },
    {
      "cell_type": "code",
      "execution_count": 113,
      "id": "020f238e",
      "metadata": {},
      "outputs": [
        {
          "name": "stdout",
          "output_type": "stream",
          "text": [
            "There are 0 categorical variables\n",
            "\n",
            "The categorical variables are :\n",
            "\n",
            " []\n"
          ]
        }
      ],
      "source": [
        "# find categorical variables\n",
        "\n",
        "categorical = [var for var in df_trainData.columns if df_trainData[var].dtype=='O']\n",
        "\n",
        "print('There are {} categorical variables\\n'.format(len(categorical)))\n",
        "\n",
        "print('The categorical variables are :\\n\\n', categorical)"
      ]
    },
    {
      "cell_type": "code",
      "execution_count": 114,
      "id": "1ed9f3a3",
      "metadata": {},
      "outputs": [
        {
          "data": {
            "text/html": [
              "<div>\n",
              "<style scoped>\n",
              "    .dataframe tbody tr th:only-of-type {\n",
              "        vertical-align: middle;\n",
              "    }\n",
              "\n",
              "    .dataframe tbody tr th {\n",
              "        vertical-align: top;\n",
              "    }\n",
              "\n",
              "    .dataframe thead th {\n",
              "        text-align: right;\n",
              "    }\n",
              "</style>\n",
              "<table border=\"1\" class=\"dataframe\">\n",
              "  <thead>\n",
              "    <tr style=\"text-align: right;\">\n",
              "      <th></th>\n",
              "      <th>fligth_number</th>\n",
              "      <th>distance</th>\n",
              "      <th>denied_boarding</th>\n",
              "      <th>pax_midlow</th>\n",
              "      <th>pax_high</th>\n",
              "      <th>pax_midhigh</th>\n",
              "      <th>pax_low</th>\n",
              "      <th>pax_freqflyer</th>\n",
              "      <th>group_bookings</th>\n",
              "      <th>out_of_stock</th>\n",
              "      <th>dom_cnx</th>\n",
              "      <th>int_cnx</th>\n",
              "      <th>p2p</th>\n",
              "      <th>capacity</th>\n",
              "      <th>revenues_usd</th>\n",
              "      <th>bookings</th>\n",
              "      <th>bookings</th>\n",
              "    </tr>\n",
              "  </thead>\n",
              "  <tbody>\n",
              "    <tr>\n",
              "      <th>0</th>\n",
              "      <td>8995</td>\n",
              "      <td>1394</td>\n",
              "      <td>0</td>\n",
              "      <td>94</td>\n",
              "      <td>2</td>\n",
              "      <td>28</td>\n",
              "      <td>94</td>\n",
              "      <td>22</td>\n",
              "      <td>19</td>\n",
              "      <td>0</td>\n",
              "      <td>1</td>\n",
              "      <td>0</td>\n",
              "      <td>239</td>\n",
              "      <td>174.0</td>\n",
              "      <td>10631.1</td>\n",
              "      <td>240</td>\n",
              "      <td>240</td>\n",
              "    </tr>\n",
              "  </tbody>\n",
              "</table>\n",
              "</div>"
            ],
            "text/plain": [
              "   fligth_number  distance  denied_boarding  pax_midlow  pax_high  \\\n",
              "0           8995      1394                0          94         2   \n",
              "\n",
              "   pax_midhigh  pax_low  pax_freqflyer  group_bookings  out_of_stock  dom_cnx  \\\n",
              "0           28       94             22              19             0        1   \n",
              "\n",
              "   int_cnx  p2p  capacity  revenues_usd  bookings  bookings  \n",
              "0        0  239     174.0       10631.1       240       240  "
            ]
          },
          "execution_count": 114,
          "metadata": {},
          "output_type": "execute_result"
        }
      ],
      "source": [
        "#Seleccion de variables\n",
        "\n",
        "X = df_trainData[['fligth_number', 'distance', 'denied_boarding', 'pax_midlow', 'pax_high', 'pax_midhigh', 'pax_low', \n",
        "                       'pax_freqflyer', 'group_bookings', 'out_of_stock', 'dom_cnx', 'int_cnx', 'p2p', 'capacity', 'revenues_usd', 'bookings', 'bookings']]\n",
        "\n",
        "\n",
        "X.head(1)"
      ]
    },
    {
      "cell_type": "code",
      "execution_count": 99,
      "id": "09844a7a",
      "metadata": {},
      "outputs": [
        {
          "data": {
            "text/html": [
              "<div>\n",
              "<style scoped>\n",
              "    .dataframe tbody tr th:only-of-type {\n",
              "        vertical-align: middle;\n",
              "    }\n",
              "\n",
              "    .dataframe tbody tr th {\n",
              "        vertical-align: top;\n",
              "    }\n",
              "\n",
              "    .dataframe thead th {\n",
              "        text-align: right;\n",
              "    }\n",
              "</style>\n",
              "<table border=\"1\" class=\"dataframe\">\n",
              "  <thead>\n",
              "    <tr style=\"text-align: right;\">\n",
              "      <th></th>\n",
              "      <th>fligth_number</th>\n",
              "      <th>distance</th>\n",
              "      <th>denied_boarding</th>\n",
              "      <th>pax_midlow</th>\n",
              "      <th>pax_high</th>\n",
              "      <th>pax_midhigh</th>\n",
              "      <th>pax_low</th>\n",
              "      <th>pax_freqflyer</th>\n",
              "      <th>group_bookings</th>\n",
              "      <th>out_of_stock</th>\n",
              "      <th>dom_cnx</th>\n",
              "      <th>int_cnx</th>\n",
              "      <th>p2p</th>\n",
              "      <th>capacity</th>\n",
              "      <th>revenues_usd</th>\n",
              "      <th>bookings</th>\n",
              "      <th>bookings</th>\n",
              "    </tr>\n",
              "  </thead>\n",
              "  <tbody>\n",
              "    <tr>\n",
              "      <th>0</th>\n",
              "      <td>8995</td>\n",
              "      <td>1394</td>\n",
              "      <td>0</td>\n",
              "      <td>94</td>\n",
              "      <td>2</td>\n",
              "      <td>28</td>\n",
              "      <td>94</td>\n",
              "      <td>22</td>\n",
              "      <td>19</td>\n",
              "      <td>0</td>\n",
              "      <td>1</td>\n",
              "      <td>0</td>\n",
              "      <td>239</td>\n",
              "      <td>174.0</td>\n",
              "      <td>10631.1</td>\n",
              "      <td>240</td>\n",
              "      <td>240</td>\n",
              "    </tr>\n",
              "    <tr>\n",
              "      <th>1</th>\n",
              "      <td>7061</td>\n",
              "      <td>489</td>\n",
              "      <td>0</td>\n",
              "      <td>100</td>\n",
              "      <td>4</td>\n",
              "      <td>4</td>\n",
              "      <td>87</td>\n",
              "      <td>25</td>\n",
              "      <td>0</td>\n",
              "      <td>0</td>\n",
              "      <td>19</td>\n",
              "      <td>9</td>\n",
              "      <td>192</td>\n",
              "      <td>174.0</td>\n",
              "      <td>5453.7</td>\n",
              "      <td>220</td>\n",
              "      <td>220</td>\n",
              "    </tr>\n",
              "    <tr>\n",
              "      <th>2</th>\n",
              "      <td>8972</td>\n",
              "      <td>2180</td>\n",
              "      <td>0</td>\n",
              "      <td>7</td>\n",
              "      <td>1</td>\n",
              "      <td>5</td>\n",
              "      <td>64</td>\n",
              "      <td>2</td>\n",
              "      <td>0</td>\n",
              "      <td>0</td>\n",
              "      <td>0</td>\n",
              "      <td>10</td>\n",
              "      <td>69</td>\n",
              "      <td>218.0</td>\n",
              "      <td>16161.0</td>\n",
              "      <td>79</td>\n",
              "      <td>79</td>\n",
              "    </tr>\n",
              "    <tr>\n",
              "      <th>3</th>\n",
              "      <td>6039</td>\n",
              "      <td>524</td>\n",
              "      <td>0</td>\n",
              "      <td>54</td>\n",
              "      <td>4</td>\n",
              "      <td>7</td>\n",
              "      <td>21</td>\n",
              "      <td>4</td>\n",
              "      <td>0</td>\n",
              "      <td>0</td>\n",
              "      <td>26</td>\n",
              "      <td>0</td>\n",
              "      <td>64</td>\n",
              "      <td>174.0</td>\n",
              "      <td>10828.7</td>\n",
              "      <td>90</td>\n",
              "      <td>90</td>\n",
              "    </tr>\n",
              "    <tr>\n",
              "      <th>4</th>\n",
              "      <td>7713</td>\n",
              "      <td>1170</td>\n",
              "      <td>0</td>\n",
              "      <td>21</td>\n",
              "      <td>88</td>\n",
              "      <td>18</td>\n",
              "      <td>82</td>\n",
              "      <td>0</td>\n",
              "      <td>88</td>\n",
              "      <td>1</td>\n",
              "      <td>23</td>\n",
              "      <td>3</td>\n",
              "      <td>183</td>\n",
              "      <td>144.0</td>\n",
              "      <td>16721.6</td>\n",
              "      <td>209</td>\n",
              "      <td>209</td>\n",
              "    </tr>\n",
              "  </tbody>\n",
              "</table>\n",
              "</div>"
            ],
            "text/plain": [
              "   fligth_number  distance  denied_boarding  pax_midlow  pax_high  \\\n",
              "0           8995      1394                0          94         2   \n",
              "1           7061       489                0         100         4   \n",
              "2           8972      2180                0           7         1   \n",
              "3           6039       524                0          54         4   \n",
              "4           7713      1170                0          21        88   \n",
              "\n",
              "   pax_midhigh  pax_low  pax_freqflyer  group_bookings  out_of_stock  dom_cnx  \\\n",
              "0           28       94             22              19             0        1   \n",
              "1            4       87             25               0             0       19   \n",
              "2            5       64              2               0             0        0   \n",
              "3            7       21              4               0             0       26   \n",
              "4           18       82              0              88             1       23   \n",
              "\n",
              "   int_cnx  p2p  capacity  revenues_usd  bookings  bookings  \n",
              "0        0  239     174.0       10631.1       240       240  \n",
              "1        9  192     174.0        5453.7       220       220  \n",
              "2       10   69     218.0       16161.0        79        79  \n",
              "3        0   64     174.0       10828.7        90        90  \n",
              "4        3  183     144.0       16721.6       209       209  "
            ]
          },
          "execution_count": 99,
          "metadata": {},
          "output_type": "execute_result"
        }
      ],
      "source": [
        "X.head()"
      ]
    },
    {
      "cell_type": "code",
      "execution_count": 115,
      "id": "80acff6f",
      "metadata": {},
      "outputs": [
        {
          "data": {
            "text/plain": [
              "0         1\n",
              "1         0\n",
              "2         1\n",
              "3         1\n",
              "4         1\n",
              "         ..\n",
              "999885    1\n",
              "999886    1\n",
              "999887    1\n",
              "999888    0\n",
              "999889    1\n",
              "Name: noshow, Length: 998472, dtype: int64"
            ]
          },
          "execution_count": 115,
          "metadata": {},
          "output_type": "execute_result"
        }
      ],
      "source": [
        "y"
      ]
    },
    {
      "cell_type": "markdown",
      "id": "fca6a9ca",
      "metadata": {},
      "source": [
        "Ahora se realizara el testeo de datos, para eso se eligio como hiperparametro el var_smoothing, donde los valores seleccionados fueron {1e-09, 1e-05, 1e-01} que corresponde al suavizado de variables"
      ]
    },
    {
      "cell_type": "code",
      "execution_count": 103,
      "id": "14328b31",
      "metadata": {},
      "outputs": [
        {
          "ename": "KeyboardInterrupt",
          "evalue": "",
          "output_type": "error",
          "traceback": [
            "\u001b[1;31m---------------------------------------------------------------------------\u001b[0m",
            "\u001b[1;31mKeyboardInterrupt\u001b[0m                         Traceback (most recent call last)",
            "\u001b[1;32mc:\\Users\\56967\\Desktop\\UAI\\Semestre V\\Minería de datos\\Proyecto 2\\Proyecto2_MD.ipynb Cell 65'\u001b[0m in \u001b[0;36m<cell line: 6>\u001b[1;34m()\u001b[0m\n\u001b[0;32m     <a href='vscode-notebook-cell:/c%3A/Users/56967/Desktop/UAI/Semestre%20V/Miner%C3%ADa%20de%20datos/Proyecto%202/Proyecto2_MD.ipynb#ch0000081?line=26'>27</a>\u001b[0m nb1 \u001b[39m=\u001b[39m nb1\u001b[39m.\u001b[39mfit(trainData,trainTarget)\n\u001b[0;32m     <a href='vscode-notebook-cell:/c%3A/Users/56967/Desktop/UAI/Semestre%20V/Miner%C3%ADa%20de%20datos/Proyecto%202/Proyecto2_MD.ipynb#ch0000081?line=27'>28</a>\u001b[0m prediccion\u001b[39m=\u001b[39m nb1\u001b[39m.\u001b[39mpredict(trainData)\n\u001b[1;32m---> <a href='vscode-notebook-cell:/c%3A/Users/56967/Desktop/UAI/Semestre%20V/Miner%C3%ADa%20de%20datos/Proyecto%202/Proyecto2_MD.ipynb#ch0000081?line=28'>29</a>\u001b[0m errorTrain[index]\u001b[39m=\u001b[39mmt\u001b[39m.\u001b[39;49mf1_score(trainTarget, prediccion)\n\u001b[0;32m     <a href='vscode-notebook-cell:/c%3A/Users/56967/Desktop/UAI/Semestre%20V/Miner%C3%ADa%20de%20datos/Proyecto%202/Proyecto2_MD.ipynb#ch0000081?line=30'>31</a>\u001b[0m prediccion \u001b[39m=\u001b[39m nb1\u001b[39m.\u001b[39mpredict(testData)\n\u001b[0;32m     <a href='vscode-notebook-cell:/c%3A/Users/56967/Desktop/UAI/Semestre%20V/Miner%C3%ADa%20de%20datos/Proyecto%202/Proyecto2_MD.ipynb#ch0000081?line=31'>32</a>\u001b[0m errorTest[index]\u001b[39m=\u001b[39mmt\u001b[39m.\u001b[39mf1_score(testTarget, prediccion)\n",
            "File \u001b[1;32mc:\\Users\\56967\\AppData\\Local\\Programs\\Python\\Python310\\lib\\site-packages\\sklearn\\metrics\\_classification.py:1123\u001b[0m, in \u001b[0;36mf1_score\u001b[1;34m(y_true, y_pred, labels, pos_label, average, sample_weight, zero_division)\u001b[0m\n\u001b[0;32m    992\u001b[0m \u001b[39mdef\u001b[39;00m \u001b[39mf1_score\u001b[39m(\n\u001b[0;32m    993\u001b[0m     y_true,\n\u001b[0;32m    994\u001b[0m     y_pred,\n\u001b[1;32m   (...)\u001b[0m\n\u001b[0;32m   1000\u001b[0m     zero_division\u001b[39m=\u001b[39m\u001b[39m\"\u001b[39m\u001b[39mwarn\u001b[39m\u001b[39m\"\u001b[39m,\n\u001b[0;32m   1001\u001b[0m ):\n\u001b[0;32m   1002\u001b[0m     \u001b[39m\"\"\"Compute the F1 score, also known as balanced F-score or F-measure.\u001b[39;00m\n\u001b[0;32m   1003\u001b[0m \n\u001b[0;32m   1004\u001b[0m \u001b[39m    The F1 score can be interpreted as a harmonic mean of the precision and\u001b[39;00m\n\u001b[1;32m   (...)\u001b[0m\n\u001b[0;32m   1121\u001b[0m \u001b[39m    modified with ``zero_division``.\u001b[39;00m\n\u001b[0;32m   1122\u001b[0m \u001b[39m    \"\"\"\u001b[39;00m\n\u001b[1;32m-> 1123\u001b[0m     \u001b[39mreturn\u001b[39;00m fbeta_score(\n\u001b[0;32m   1124\u001b[0m         y_true,\n\u001b[0;32m   1125\u001b[0m         y_pred,\n\u001b[0;32m   1126\u001b[0m         beta\u001b[39m=\u001b[39;49m\u001b[39m1\u001b[39;49m,\n\u001b[0;32m   1127\u001b[0m         labels\u001b[39m=\u001b[39;49mlabels,\n\u001b[0;32m   1128\u001b[0m         pos_label\u001b[39m=\u001b[39;49mpos_label,\n\u001b[0;32m   1129\u001b[0m         average\u001b[39m=\u001b[39;49maverage,\n\u001b[0;32m   1130\u001b[0m         sample_weight\u001b[39m=\u001b[39;49msample_weight,\n\u001b[0;32m   1131\u001b[0m         zero_division\u001b[39m=\u001b[39;49mzero_division,\n\u001b[0;32m   1132\u001b[0m     )\n",
            "File \u001b[1;32mc:\\Users\\56967\\AppData\\Local\\Programs\\Python\\Python310\\lib\\site-packages\\sklearn\\metrics\\_classification.py:1261\u001b[0m, in \u001b[0;36mfbeta_score\u001b[1;34m(y_true, y_pred, beta, labels, pos_label, average, sample_weight, zero_division)\u001b[0m\n\u001b[0;32m   1135\u001b[0m \u001b[39mdef\u001b[39;00m \u001b[39mfbeta_score\u001b[39m(\n\u001b[0;32m   1136\u001b[0m     y_true,\n\u001b[0;32m   1137\u001b[0m     y_pred,\n\u001b[1;32m   (...)\u001b[0m\n\u001b[0;32m   1144\u001b[0m     zero_division\u001b[39m=\u001b[39m\u001b[39m\"\u001b[39m\u001b[39mwarn\u001b[39m\u001b[39m\"\u001b[39m,\n\u001b[0;32m   1145\u001b[0m ):\n\u001b[0;32m   1146\u001b[0m     \u001b[39m\"\"\"Compute the F-beta score.\u001b[39;00m\n\u001b[0;32m   1147\u001b[0m \n\u001b[0;32m   1148\u001b[0m \u001b[39m    The F-beta score is the weighted harmonic mean of precision and recall,\u001b[39;00m\n\u001b[1;32m   (...)\u001b[0m\n\u001b[0;32m   1258\u001b[0m \u001b[39m    array([0.71..., 0.        , 0.        ])\u001b[39;00m\n\u001b[0;32m   1259\u001b[0m \u001b[39m    \"\"\"\u001b[39;00m\n\u001b[1;32m-> 1261\u001b[0m     _, _, f, _ \u001b[39m=\u001b[39m precision_recall_fscore_support(\n\u001b[0;32m   1262\u001b[0m         y_true,\n\u001b[0;32m   1263\u001b[0m         y_pred,\n\u001b[0;32m   1264\u001b[0m         beta\u001b[39m=\u001b[39;49mbeta,\n\u001b[0;32m   1265\u001b[0m         labels\u001b[39m=\u001b[39;49mlabels,\n\u001b[0;32m   1266\u001b[0m         pos_label\u001b[39m=\u001b[39;49mpos_label,\n\u001b[0;32m   1267\u001b[0m         average\u001b[39m=\u001b[39;49maverage,\n\u001b[0;32m   1268\u001b[0m         warn_for\u001b[39m=\u001b[39;49m(\u001b[39m\"\u001b[39;49m\u001b[39mf-score\u001b[39;49m\u001b[39m\"\u001b[39;49m,),\n\u001b[0;32m   1269\u001b[0m         sample_weight\u001b[39m=\u001b[39;49msample_weight,\n\u001b[0;32m   1270\u001b[0m         zero_division\u001b[39m=\u001b[39;49mzero_division,\n\u001b[0;32m   1271\u001b[0m     )\n\u001b[0;32m   1272\u001b[0m     \u001b[39mreturn\u001b[39;00m f\n",
            "File \u001b[1;32mc:\\Users\\56967\\AppData\\Local\\Programs\\Python\\Python310\\lib\\site-packages\\sklearn\\metrics\\_classification.py:1548\u001b[0m, in \u001b[0;36mprecision_recall_fscore_support\u001b[1;34m(y_true, y_pred, beta, labels, pos_label, average, warn_for, sample_weight, zero_division)\u001b[0m\n\u001b[0;32m   1546\u001b[0m \u001b[39m# Calculate tp_sum, pred_sum, true_sum ###\u001b[39;00m\n\u001b[0;32m   1547\u001b[0m samplewise \u001b[39m=\u001b[39m average \u001b[39m==\u001b[39m \u001b[39m\"\u001b[39m\u001b[39msamples\u001b[39m\u001b[39m\"\u001b[39m\n\u001b[1;32m-> 1548\u001b[0m MCM \u001b[39m=\u001b[39m multilabel_confusion_matrix(\n\u001b[0;32m   1549\u001b[0m     y_true,\n\u001b[0;32m   1550\u001b[0m     y_pred,\n\u001b[0;32m   1551\u001b[0m     sample_weight\u001b[39m=\u001b[39;49msample_weight,\n\u001b[0;32m   1552\u001b[0m     labels\u001b[39m=\u001b[39;49mlabels,\n\u001b[0;32m   1553\u001b[0m     samplewise\u001b[39m=\u001b[39;49msamplewise,\n\u001b[0;32m   1554\u001b[0m )\n\u001b[0;32m   1555\u001b[0m tp_sum \u001b[39m=\u001b[39m MCM[:, \u001b[39m1\u001b[39m, \u001b[39m1\u001b[39m]\n\u001b[0;32m   1556\u001b[0m pred_sum \u001b[39m=\u001b[39m tp_sum \u001b[39m+\u001b[39m MCM[:, \u001b[39m0\u001b[39m, \u001b[39m1\u001b[39m]\n",
            "File \u001b[1;32mc:\\Users\\56967\\AppData\\Local\\Programs\\Python\\Python310\\lib\\site-packages\\sklearn\\metrics\\_classification.py:487\u001b[0m, in \u001b[0;36mmultilabel_confusion_matrix\u001b[1;34m(y_true, y_pred, sample_weight, labels, samplewise)\u001b[0m\n\u001b[0;32m    484\u001b[0m \u001b[39mif\u001b[39;00m y_type \u001b[39mnot\u001b[39;00m \u001b[39min\u001b[39;00m (\u001b[39m\"\u001b[39m\u001b[39mbinary\u001b[39m\u001b[39m\"\u001b[39m, \u001b[39m\"\u001b[39m\u001b[39mmulticlass\u001b[39m\u001b[39m\"\u001b[39m, \u001b[39m\"\u001b[39m\u001b[39mmultilabel-indicator\u001b[39m\u001b[39m\"\u001b[39m):\n\u001b[0;32m    485\u001b[0m     \u001b[39mraise\u001b[39;00m \u001b[39mValueError\u001b[39;00m(\u001b[39m\"\u001b[39m\u001b[39m%s\u001b[39;00m\u001b[39m is not supported\u001b[39m\u001b[39m\"\u001b[39m \u001b[39m%\u001b[39m y_type)\n\u001b[1;32m--> 487\u001b[0m present_labels \u001b[39m=\u001b[39m unique_labels(y_true, y_pred)\n\u001b[0;32m    488\u001b[0m \u001b[39mif\u001b[39;00m labels \u001b[39mis\u001b[39;00m \u001b[39mNone\u001b[39;00m:\n\u001b[0;32m    489\u001b[0m     labels \u001b[39m=\u001b[39m present_labels\n",
            "File \u001b[1;32mc:\\Users\\56967\\AppData\\Local\\Programs\\Python\\Python310\\lib\\site-packages\\sklearn\\utils\\multiclass.py:103\u001b[0m, in \u001b[0;36munique_labels\u001b[1;34m(*ys)\u001b[0m\n\u001b[0;32m    100\u001b[0m \u001b[39mif\u001b[39;00m \u001b[39mnot\u001b[39;00m _unique_labels:\n\u001b[0;32m    101\u001b[0m     \u001b[39mraise\u001b[39;00m \u001b[39mValueError\u001b[39;00m(\u001b[39m\"\u001b[39m\u001b[39mUnknown label type: \u001b[39m\u001b[39m%s\u001b[39;00m\u001b[39m\"\u001b[39m \u001b[39m%\u001b[39m \u001b[39mrepr\u001b[39m(ys))\n\u001b[1;32m--> 103\u001b[0m ys_labels \u001b[39m=\u001b[39m \u001b[39mset\u001b[39;49m(chain\u001b[39m.\u001b[39;49mfrom_iterable(_unique_labels(y) \u001b[39mfor\u001b[39;49;00m y \u001b[39min\u001b[39;49;00m ys))\n\u001b[0;32m    105\u001b[0m \u001b[39m# Check that we don't mix string type with number type\u001b[39;00m\n\u001b[0;32m    106\u001b[0m \u001b[39mif\u001b[39;00m \u001b[39mlen\u001b[39m(\u001b[39mset\u001b[39m(\u001b[39misinstance\u001b[39m(label, \u001b[39mstr\u001b[39m) \u001b[39mfor\u001b[39;00m label \u001b[39min\u001b[39;00m ys_labels)) \u001b[39m>\u001b[39m \u001b[39m1\u001b[39m:\n",
            "File \u001b[1;32mc:\\Users\\56967\\AppData\\Local\\Programs\\Python\\Python310\\lib\\site-packages\\sklearn\\utils\\multiclass.py:103\u001b[0m, in \u001b[0;36m<genexpr>\u001b[1;34m(.0)\u001b[0m\n\u001b[0;32m    100\u001b[0m \u001b[39mif\u001b[39;00m \u001b[39mnot\u001b[39;00m _unique_labels:\n\u001b[0;32m    101\u001b[0m     \u001b[39mraise\u001b[39;00m \u001b[39mValueError\u001b[39;00m(\u001b[39m\"\u001b[39m\u001b[39mUnknown label type: \u001b[39m\u001b[39m%s\u001b[39;00m\u001b[39m\"\u001b[39m \u001b[39m%\u001b[39m \u001b[39mrepr\u001b[39m(ys))\n\u001b[1;32m--> 103\u001b[0m ys_labels \u001b[39m=\u001b[39m \u001b[39mset\u001b[39m(chain\u001b[39m.\u001b[39mfrom_iterable(_unique_labels(y) \u001b[39mfor\u001b[39;00m y \u001b[39min\u001b[39;00m ys))\n\u001b[0;32m    105\u001b[0m \u001b[39m# Check that we don't mix string type with number type\u001b[39;00m\n\u001b[0;32m    106\u001b[0m \u001b[39mif\u001b[39;00m \u001b[39mlen\u001b[39m(\u001b[39mset\u001b[39m(\u001b[39misinstance\u001b[39m(label, \u001b[39mstr\u001b[39m) \u001b[39mfor\u001b[39;00m label \u001b[39min\u001b[39;00m ys_labels)) \u001b[39m>\u001b[39m \u001b[39m1\u001b[39m:\n",
            "File \u001b[1;32mc:\\Users\\56967\\AppData\\Local\\Programs\\Python\\Python310\\lib\\site-packages\\sklearn\\utils\\multiclass.py:24\u001b[0m, in \u001b[0;36m_unique_multiclass\u001b[1;34m(y)\u001b[0m\n\u001b[0;32m     22\u001b[0m \u001b[39mdef\u001b[39;00m \u001b[39m_unique_multiclass\u001b[39m(y):\n\u001b[0;32m     23\u001b[0m     \u001b[39mif\u001b[39;00m \u001b[39mhasattr\u001b[39m(y, \u001b[39m\"\u001b[39m\u001b[39m__array__\u001b[39m\u001b[39m\"\u001b[39m):\n\u001b[1;32m---> 24\u001b[0m         \u001b[39mreturn\u001b[39;00m np\u001b[39m.\u001b[39;49munique(np\u001b[39m.\u001b[39;49masarray(y))\n\u001b[0;32m     25\u001b[0m     \u001b[39melse\u001b[39;00m:\n\u001b[0;32m     26\u001b[0m         \u001b[39mreturn\u001b[39;00m \u001b[39mset\u001b[39m(y)\n",
            "File \u001b[1;32m<__array_function__ internals>:180\u001b[0m, in \u001b[0;36munique\u001b[1;34m(*args, **kwargs)\u001b[0m\n",
            "File \u001b[1;32mc:\\Users\\56967\\AppData\\Local\\Programs\\Python\\Python310\\lib\\site-packages\\numpy\\lib\\arraysetops.py:272\u001b[0m, in \u001b[0;36munique\u001b[1;34m(ar, return_index, return_inverse, return_counts, axis)\u001b[0m\n\u001b[0;32m    270\u001b[0m ar \u001b[39m=\u001b[39m np\u001b[39m.\u001b[39masanyarray(ar)\n\u001b[0;32m    271\u001b[0m \u001b[39mif\u001b[39;00m axis \u001b[39mis\u001b[39;00m \u001b[39mNone\u001b[39;00m:\n\u001b[1;32m--> 272\u001b[0m     ret \u001b[39m=\u001b[39m _unique1d(ar, return_index, return_inverse, return_counts)\n\u001b[0;32m    273\u001b[0m     \u001b[39mreturn\u001b[39;00m _unpack_tuple(ret)\n\u001b[0;32m    275\u001b[0m \u001b[39m# axis was specified and not None\u001b[39;00m\n",
            "File \u001b[1;32mc:\\Users\\56967\\AppData\\Local\\Programs\\Python\\Python310\\lib\\site-packages\\numpy\\lib\\arraysetops.py:333\u001b[0m, in \u001b[0;36m_unique1d\u001b[1;34m(ar, return_index, return_inverse, return_counts)\u001b[0m\n\u001b[0;32m    331\u001b[0m     aux \u001b[39m=\u001b[39m ar[perm]\n\u001b[0;32m    332\u001b[0m \u001b[39melse\u001b[39;00m:\n\u001b[1;32m--> 333\u001b[0m     ar\u001b[39m.\u001b[39;49msort()\n\u001b[0;32m    334\u001b[0m     aux \u001b[39m=\u001b[39m ar\n\u001b[0;32m    335\u001b[0m mask \u001b[39m=\u001b[39m np\u001b[39m.\u001b[39mempty(aux\u001b[39m.\u001b[39mshape, dtype\u001b[39m=\u001b[39mnp\u001b[39m.\u001b[39mbool_)\n",
            "\u001b[1;31mKeyboardInterrupt\u001b[0m: "
          ]
        }
      ],
      "source": [
        "from sklearn.model_selection import KFold\n",
        "from sklearn import metrics as mt\n",
        "from sklearn.naive_bayes import GaussianNB\n",
        "\n",
        "\n",
        "for i in range(1, 11):#print(f\"Si consideramos las variables: {list(X[i])}\")\n",
        "\n",
        "  numFolds=10\n",
        "\n",
        "  kf = KFold(n_splits=numFolds,shuffle=True)\n",
        "  nb1 = GaussianNB(var_smoothing=1e-09)\n",
        "  #Generando los k-fold\n",
        "  temp=kf.split(X)\n",
        "\n",
        "  errorTrain = np.zeros(10)\n",
        "  errorTest = np.zeros(10)\n",
        "\n",
        "  index=0\n",
        "  for train_index, test_index in temp:\n",
        "      \n",
        "      trainData = np.array(X)[train_index, :]\n",
        "      testData = np.array(X)[test_index, :]\n",
        "      \n",
        "      trainTarget = np.ravel(y)[train_index]\n",
        "      testTarget = np.ravel(y)[test_index]\n",
        "      \n",
        "      nb1 = nb1.fit(trainData,trainTarget)\n",
        "      prediccion= nb1.predict(trainData)\n",
        "      errorTrain[index]=mt.f1_score(trainTarget, prediccion)\n",
        "      \n",
        "      prediccion = nb1.predict(testData)\n",
        "      errorTest[index]=mt.f1_score(testTarget, prediccion)\n",
        "      index+=1\n",
        "      \n",
        "print(\"F1-score modelo para training: \", errorTrain.mean(), \"+-\", errorTrain.std())\n",
        "print(\"F1-score modelo para test: \", errorTest.mean(), \"+-\", errorTest.std())"
      ]
    },
    {
      "cell_type": "markdown",
      "id": "d08c630f",
      "metadata": {},
      "source": [
        "var_smooting 1e-09\n",
        "F1-score modelo para training:  0.7676729541088687 +- 0.0005661145381702724\n",
        "F1-score modelo para test:  0.7676703499077393 +- 0.0013161426249932284"
      ]
    },
    {
      "cell_type": "code",
      "execution_count": null,
      "id": "c403675a",
      "metadata": {},
      "outputs": [],
      "source": [
        "for i in range(1, 11):  #print(f\"Si consideramos las variables: {list(X[i])}\")\n",
        "\n",
        "  numFolds=10\n",
        "\n",
        "  kf = KFold(n_splits=numFolds,shuffle=True)\n",
        "  nb1 = GaussianNB(var_smoothing=1e-05)\n",
        "  #Generando los k-fold\n",
        "  temp=kf.split(X)\n",
        "\n",
        "  errorTrain = np.zeros(10)\n",
        "  errorTest = np.zeros(10)\n",
        "\n",
        "  index=0\n",
        "  for train_index, test_index in temp:\n",
        "      \n",
        "      trainData = np.array(X)[train_index, :]\n",
        "      testData = np.array(X)[test_index, :]\n",
        "      \n",
        "      trainTarget = np.ravel(y)[train_index]\n",
        "      testTarget = np.ravel(y)[test_index]\n",
        "      \n",
        "      nb1 = nb1.fit(trainData,trainTarget)\n",
        "      prediccion= nb1.predict(trainData)\n",
        "      errorTrain[index]=mt.f1_score(trainTarget, prediccion)\n",
        "      \n",
        "      prediccion = nb1.predict(testData)\n",
        "      errorTest[index]=mt.f1_score(testTarget, prediccion)\n",
        "      index+=1\n",
        "      \n",
        "print(\"F1-score modelo para training: \", errorTrain.mean(), \"+-\", errorTrain.std())\n",
        "print(\"F1-score modelo para test: \", errorTest.mean(), \"+-\", errorTest.std())"
      ]
    },
    {
      "cell_type": "markdown",
      "id": "77f2cd19",
      "metadata": {},
      "source": [
        "var_smoothing 1e-05\n",
        "F1-score modelo para training:  0.784720260675608 +- 0.00016503683600702023\n",
        "F1-score modelo para test:  0.7847103339369854 +- 0.0015593130797103667"
      ]
    },
    {
      "cell_type": "code",
      "execution_count": null,
      "id": "a405516d",
      "metadata": {},
      "outputs": [],
      "source": [
        "for i in range(1, 11):  #print(f\"Si consideramos las variables: {list(X[i])}\")\n",
        "\n",
        "  numFolds=10\n",
        "\n",
        "  kf = KFold(n_splits=numFolds,shuffle=True)\n",
        "  nb1 = GaussianNB(var_smoothing=1e-01)\n",
        "  #Generando los k-fold\n",
        "  temp=kf.split(X)\n",
        "\n",
        "  errorTrain = np.zeros(10)\n",
        "  errorTest = np.zeros(10)\n",
        "\n",
        "  index=0\n",
        "  for train_index, test_index in temp:\n",
        "      \n",
        "      trainData = np.array(X)[train_index, :]\n",
        "      testData = np.array(X)[test_index, :]\n",
        "      \n",
        "      trainTarget = np.ravel(y)[train_index]\n",
        "      testTarget = np.ravel(y)[test_index]\n",
        "      \n",
        "      nb1 = nb1.fit(trainData,trainTarget)\n",
        "      prediccion= nb1.predict(trainData)\n",
        "      errorTrain[index]=mt.f1_score(trainTarget, prediccion)\n",
        "      \n",
        "      prediccion = nb1.predict(testData)\n",
        "      errorTest[index]=mt.f1_score(testTarget, prediccion)\n",
        "      index+=1\n",
        "      \n",
        "print(\"F1-score modelo para training: \", errorTrain.mean(), \"+-\", errorTrain.std())\n",
        "print(\"F1-score modelo para test: \", errorTest.mean(), \"+-\", errorTest.std())"
      ]
    },
    {
      "cell_type": "markdown",
      "id": "4472f8b6",
      "metadata": {},
      "source": [
        "var_smoothing 1e-01\n",
        "F1-score modelo para training:  0.7919558893766421 +- 0.0001446067280207635\n",
        "F1-score modelo para test:  0.7919545058117594 +- 0.0013018194213854177"
      ]
    },
    {
      "cell_type": "markdown",
      "id": "L0k576SeVPaO",
      "metadata": {
        "id": "L0k576SeVPaO"
      },
      "source": [
        "-Bruno Reyes"
      ]
    },
    {
      "cell_type": "code",
      "execution_count": null,
      "id": "8FVA9oCCVRTe",
      "metadata": {
        "id": "8FVA9oCCVRTe"
      },
      "outputs": [],
      "source": [
        "df_trainData['noshow'] = df_trainData['noshow'].apply(lambda x: 1 if x>=4.0 else 0) #Source: https://www.geeksforgeeks.org/using-apply-in-pandas-lambda-functions-with-multiple-if-statements/"
      ]
    },
    {
      "cell_type": "code",
      "execution_count": null,
      "id": "868af006",
      "metadata": {},
      "outputs": [],
      "source": [
        "# find numerical variables\n",
        "\n",
        "numerical = [var for var in df_trainData.columns if df_trainData[var].dtype!='O']\n",
        "\n",
        "print('There are {} numerical variables\\n'.format(len(numerical)))\n",
        "\n",
        "print('The numerical variables are :', numerical)"
      ]
    },
    {
      "cell_type": "code",
      "execution_count": null,
      "id": "31890b02",
      "metadata": {},
      "outputs": [],
      "source": [
        "submuestra = df_trainData.sample(100000)\n",
        "submuestra"
      ]
    },
    {
      "cell_type": "code",
      "execution_count": null,
      "id": "eeffa546",
      "metadata": {},
      "outputs": [],
      "source": [
        "#Seleccion de variables\n",
        "X = submuestra[['fligth_number', 'distance', 'denied_boarding', 'pax_midlow', 'pax_high', 'pax_midhigh', 'pax_low', \n",
        "                       'pax_freqflyer', 'group_bookings', 'out_of_stock', 'dom_cnx', 'int_cnx', 'p2p', 'capacity', 'revenues_usd', 'bookings']]\n",
        "\n",
        "Y = submuestra[\"noshow\"]\n"
      ]
    },
    {
      "cell_type": "code",
      "execution_count": null,
      "id": "315c3c62",
      "metadata": {},
      "outputs": [],
      "source": [
        "from sklearn.preprocessing import StandardScaler\n",
        "scaler = StandardScaler()\n",
        "X = scaler.fit_transform(X)\n",
        "X"
      ]
    },
    {
      "cell_type": "markdown",
      "id": "09d66276",
      "metadata": {},
      "source": [
        "Con K-fold vamos a iterar hasta encontrar el mejor valor de k para el algoritmo de KNN, probaremos una iteracion de 20, donde seleccionaremos el mejor k."
      ]
    },
    {
      "cell_type": "code",
      "execution_count": null,
      "id": "79700bd5",
      "metadata": {},
      "outputs": [],
      "source": [
        "from sklearn.model_selection import KFold\n",
        "from sklearn.neighbors import KNeighborsClassifier\n",
        "\n",
        "from sklearn import metrics as mt\n",
        "\n",
        "for i in range(1, 21):\n",
        "\n",
        "  print(f\"Iteración número: {i}\")\n",
        "  numFolds=10\n",
        "\n",
        "  kf = KFold(n_splits=numFolds,shuffle=True)\n",
        "  KNN = KNeighborsClassifier(n_neighbors = i, weights='distance')\n",
        "\n",
        "\n",
        "  #Generando los k-fold\n",
        "  temp=kf.split(X)\n",
        "\n",
        "  errorTrain = np.zeros(10)\n",
        "  errorTest = np.zeros(10)\n",
        "\n",
        "  index=0\n",
        "  for train_index, test_index in temp:\n",
        "      \n",
        "      trainData = np.array(X)[train_index, :]\n",
        "      testData = np.array(X)[test_index, :]\n",
        "      \n",
        "      trainTarget = np.ravel(Y)[train_index]\n",
        "      testTarget = np.ravel(Y)[test_index]\n",
        "      \n",
        "      KNN = KNN.fit(trainData,trainTarget)\n",
        "\n",
        "      prediccion= KNN.predict(trainData)\n",
        "      errorTrain[index]=mt.f1_score(trainTarget, prediccion)\n",
        "      \n",
        "      prediccion = KNN.predict(testData)\n",
        "      errorTest[index]=mt.f1_score(testTarget, prediccion)\n",
        "      index+=1\n",
        "  print(f\"Para los {i} vecinos más cercanos\")    \n",
        "  print(\"F1-score modelo para training: \", errorTrain.mean(), \"+-\", errorTrain.std())\n",
        "  print(\"F1-score modelo para test: \", errorTest.mean(), \"+-\", errorTest.std())"
      ]
    },
    {
      "cell_type": "markdown",
      "id": "67f08229",
      "metadata": {},
      "source": [
        "Por lo que finalmente nos quedamos con la ultima iteración, vemos que el valor 20 para k fue el más alto, por ende, asi funcionaria mejor el algoritmo:\n",
        "\n",
        "Para los 20 vecinos más cercanos\n",
        "F1-score modelo para training:  1.0 +- 0.0\n",
        "F1-score modelo para test:  0.7793576705884536 +- 0.0032841447854416667\n"
      ]
    },
    {
      "cell_type": "markdown",
      "id": "8BnXz3JtRmcD",
      "metadata": {
        "id": "8BnXz3JtRmcD"
      },
      "source": [
        "# 3.- Selección del modelo final"
      ]
    },
    {
      "cell_type": "markdown",
      "id": "f79ce651",
      "metadata": {},
      "source": [
        "Los mejores valores de F1-score arrojados por cada modelo:\n",
        "-Árbol de decisión:\n",
        "    Train: 0.709 +- 0.0009\n",
        "    Test:  0.71 +- 0.0001\n",
        "-KNN: \n",
        "    Train: 1 +- 0\n",
        "    Test: 0.77 +- 0.003\n",
        "-Regresión logística: \n",
        "    Train: 0.79 +- 0.001\n",
        "    Test: 0.79 +- 0.001\n",
        "-Naive Bayes:\n",
        "    Train: 0.79 +- 0.0001\n",
        "    Test: 0.79 +- 0.0001"
      ]
    },
    {
      "cell_type": "markdown",
      "id": "45360cd2",
      "metadata": {},
      "source": [
        "Dado los resultados anteriores seleccionamos como mejor modelo Regresión logística, dado que a pesar de tener un empate en cuanto al rendimiento con Naive Bayes, Regresión es mejor dado a que se hizo un mejor estudio respecto a la multicolinealidad descartando las variables que eventualmente podrían sesgar nuestra muestra, por otro lado, es un algoritmo más barato computacionalmente que Naive Bayes."
      ]
    },
    {
      "cell_type": "markdown",
      "id": "YBEs8YrFRpLY",
      "metadata": {
        "id": "YBEs8YrFRpLY"
      },
      "source": [
        "#4.- Evaluación de la segunda base de datos basado en la variable binaria no-show"
      ]
    },
    {
      "cell_type": "code",
      "execution_count": 119,
      "id": "51a9c281",
      "metadata": {},
      "outputs": [
        {
          "name": "stdout",
          "output_type": "stream",
          "text": [
            "iteracion 1\n",
            "iteracion 2\n",
            "iteracion 3\n",
            "iteracion 4\n",
            "iteracion 5\n",
            "iteracion 6\n",
            "iteracion 7\n",
            "iteracion 8\n",
            "iteracion 9\n",
            "iteracion 10\n"
          ]
        }
      ],
      "source": [
        "from sklearn.naive_bayes import GaussianNB\n",
        "numFolds=10\n",
        "\n",
        "kf = KFold(n_splits=numFolds,shuffle=True)\n",
        "nb1 = GaussianNB(var_smoothing=1e-01)\n",
        "#Generando los k-fold\n",
        "temp=kf.split(X)\n",
        "\n",
        "errorTrain = np.zeros(10)\n",
        "errorTest = np.zeros(10)\n",
        "\n",
        "index=0\n",
        "for train_index, test_index in temp:\n",
        "    \n",
        "    trainData = np.array(X)[train_index, :]\n",
        "    testData = np.array(X)[test_index, :]\n",
        "    \n",
        "    trainTarget = np.ravel(y)[train_index]\n",
        "    testTarget = np.ravel(y)[test_index]\n",
        "    \n",
        "    nb1 = nb1.fit(trainData,trainTarget)\n",
        "    prediccion= nb1.predict(trainData)\n",
        "    errorTrain[index]=mt.f1_score(trainTarget, prediccion)\n",
        "    \n",
        "    prediccion = nb1.predict(testData)\n",
        "    errorTest[index]=mt.f1_score(testTarget, prediccion)\n",
        "    index+=1\n",
        "    print(\"iteracion\", index)\n"
      ]
    },
    {
      "cell_type": "code",
      "execution_count": null,
      "id": "b3a0d401",
      "metadata": {},
      "outputs": [],
      "source": [
        "categorical = df_evalData.iloc[:,[1,3,4,17]]\n",
        "df_evalData.drop(categorical, inplace=True, axis=1)"
      ]
    },
    {
      "cell_type": "code",
      "execution_count": 121,
      "id": "e11695de",
      "metadata": {},
      "outputs": [
        {
          "name": "stderr",
          "output_type": "stream",
          "text": [
            "c:\\Users\\56967\\AppData\\Local\\Programs\\Python\\Python310\\lib\\site-packages\\sklearn\\base.py:443: UserWarning: X has feature names, but GaussianNB was fitted without feature names\n"
          ]
        }
      ],
      "source": [
        "prediccion = pd.DataFrame() \n",
        "prediccion['noshow'] = nb1.predict(df_evalData)\n",
        "prediccion.to_csv(\"results.csv\", encoding='utf-8', index = False)\n"
      ]
    }
  ],
  "metadata": {
    "colab": {
      "collapsed_sections": [],
      "name": "Proyecto2_MD.ipynb",
      "provenance": []
    },
    "kernelspec": {
      "display_name": "Python 3.10.3 64-bit",
      "language": "python",
      "name": "python3"
    },
    "language_info": {
      "codemirror_mode": {
        "name": "ipython",
        "version": 3
      },
      "file_extension": ".py",
      "mimetype": "text/x-python",
      "name": "python",
      "nbconvert_exporter": "python",
      "pygments_lexer": "ipython3",
      "version": "3.10.3"
    },
    "vscode": {
      "interpreter": {
        "hash": "bb598872da2746735569b57ff72655162ff947afce1987271336430c91c82bb1"
      }
    }
  },
  "nbformat": 4,
  "nbformat_minor": 5
}
